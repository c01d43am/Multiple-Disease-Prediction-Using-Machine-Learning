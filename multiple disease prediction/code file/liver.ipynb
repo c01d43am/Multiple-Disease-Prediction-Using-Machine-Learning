{
 "cells": [
  {
   "cell_type": "markdown",
   "metadata": {},
   "source": [
    "# Liver Disease Prediction"
   ]
  },
  {
   "cell_type": "code",
   "execution_count": 472,
   "metadata": {
    "tags": []
   },
   "outputs": [],
   "source": [
    "# for numerical computing\n",
    "import numpy as np\n",
    "\n",
    "# for dataframes\n",
    "import pandas as pd\n",
    "\n",
    "# for easier visualization\n",
    "import seaborn as sns\n",
    "\n",
    "# for visualization and to display plots\n",
    "from matplotlib import pyplot as plt\n",
    "%matplotlib inline\n",
    "\n",
    "# import color maps\n",
    "from matplotlib.colors import ListedColormap\n",
    "\n",
    "# Ignore Warnings\n",
    "import warnings\n",
    "warnings.filterwarnings(\"ignore\")\n",
    "\n",
    "from math import sqrt\n",
    "\n",
    "# to split train and test set\n",
    "from sklearn.model_selection import train_test_split\n",
    "from sklearn.metrics import accuracy_score, confusion_matrix, classification_report\n",
    "\n",
    "# to perform hyperparameter tuning\n",
    "from sklearn.model_selection import GridSearchCV\n",
    "from sklearn.model_selection import RandomizedSearchCV\n",
    "\n",
    "from sklearn.model_selection import cross_val_score\n",
    "\n",
    "# Machine Learning Models\n",
    "from sklearn.linear_model import LogisticRegression\n",
    "from sklearn.ensemble import RandomForestClassifier\n",
    "from xgboost import XGBClassifier\n",
    "from sklearn.tree import DecisionTreeClassifier\n",
    "from sklearn.svm import SVC\n",
    "from sklearn.metrics import roc_curve, auc, roc_auc_score, confusion_matrix\n",
    "\n",
    "from sklearn.preprocessing import StandardScaler\n",
    "from sklearn.model_selection import train_test_split\n",
    "from sklearn.model_selection import cross_val_score\n",
    "from sklearn.neighbors import KNeighborsClassifier\n",
    "from matplotlib.colors import ListedColormap\n",
    "from sklearn.metrics import accuracy_score\n",
    "#import xgboost\n",
    "import os\n",
    "# mingw_path = 'C:\\\\Program Files\\\\mingw-w64\\\\x86_64-7.2.0-posix-seh-rt_v5-rev0\\\\mingw64\\\\bin'\n",
    "# os.environ['PATH'] = mingw_path + ';' + os.environ['PATH']\n",
    "from xgboost import XGBClassifier\n",
    "from xgboost import plot_importance  # to plot feature importance\n",
    "\n",
    "import joblib\n",
    "sns.set()\n",
    "plt.style.use('ggplot')\n",
    "%matplotlib inline"
   ]
  },
  {
   "cell_type": "code",
   "execution_count": 2,
   "metadata": {
    "tags": []
   },
   "outputs": [],
   "source": [
    "df=pd.read_csv('data/liver.csv')"
   ]
  },
  {
   "cell_type": "code",
   "execution_count": 3,
   "metadata": {},
   "outputs": [
    {
     "data": {
      "text/plain": [
       "(583, 11)"
      ]
     },
     "execution_count": 3,
     "metadata": {},
     "output_type": "execute_result"
    }
   ],
   "source": [
    "df.shape"
   ]
  },
  {
   "cell_type": "code",
   "execution_count": 4,
   "metadata": {},
   "outputs": [
    {
     "data": {
      "text/plain": [
       "Index(['Age', 'Gender', 'Total_Bilirubin', 'Direct_Bilirubin',\n",
       "       'Alkaline_Phosphotase', 'Alamine_Aminotransferase',\n",
       "       'Aspartate_Aminotransferase', 'Total_Protiens', 'Albumin',\n",
       "       'Albumin_and_Globulin_Ratio', 'Dataset'],\n",
       "      dtype='object')"
      ]
     },
     "execution_count": 4,
     "metadata": {},
     "output_type": "execute_result"
    }
   ],
   "source": [
    "df.columns"
   ]
  },
  {
   "cell_type": "code",
   "execution_count": 5,
   "metadata": {},
   "outputs": [
    {
     "data": {
      "text/html": [
       "<div>\n",
       "<style scoped>\n",
       "    .dataframe tbody tr th:only-of-type {\n",
       "        vertical-align: middle;\n",
       "    }\n",
       "\n",
       "    .dataframe tbody tr th {\n",
       "        vertical-align: top;\n",
       "    }\n",
       "\n",
       "    .dataframe thead th {\n",
       "        text-align: right;\n",
       "    }\n",
       "</style>\n",
       "<table border=\"1\" class=\"dataframe\">\n",
       "  <thead>\n",
       "    <tr style=\"text-align: right;\">\n",
       "      <th></th>\n",
       "      <th>Age</th>\n",
       "      <th>Gender</th>\n",
       "      <th>Total_Bilirubin</th>\n",
       "      <th>Direct_Bilirubin</th>\n",
       "      <th>Alkaline_Phosphotase</th>\n",
       "      <th>Alamine_Aminotransferase</th>\n",
       "      <th>Aspartate_Aminotransferase</th>\n",
       "      <th>Total_Protiens</th>\n",
       "      <th>Albumin</th>\n",
       "      <th>Albumin_and_Globulin_Ratio</th>\n",
       "      <th>Dataset</th>\n",
       "    </tr>\n",
       "  </thead>\n",
       "  <tbody>\n",
       "    <tr>\n",
       "      <th>0</th>\n",
       "      <td>65</td>\n",
       "      <td>Female</td>\n",
       "      <td>0.7</td>\n",
       "      <td>0.1</td>\n",
       "      <td>187</td>\n",
       "      <td>16</td>\n",
       "      <td>18</td>\n",
       "      <td>6.8</td>\n",
       "      <td>3.3</td>\n",
       "      <td>0.90</td>\n",
       "      <td>1</td>\n",
       "    </tr>\n",
       "    <tr>\n",
       "      <th>1</th>\n",
       "      <td>62</td>\n",
       "      <td>Male</td>\n",
       "      <td>10.9</td>\n",
       "      <td>5.5</td>\n",
       "      <td>699</td>\n",
       "      <td>64</td>\n",
       "      <td>100</td>\n",
       "      <td>7.5</td>\n",
       "      <td>3.2</td>\n",
       "      <td>0.74</td>\n",
       "      <td>1</td>\n",
       "    </tr>\n",
       "    <tr>\n",
       "      <th>2</th>\n",
       "      <td>62</td>\n",
       "      <td>Male</td>\n",
       "      <td>7.3</td>\n",
       "      <td>4.1</td>\n",
       "      <td>490</td>\n",
       "      <td>60</td>\n",
       "      <td>68</td>\n",
       "      <td>7.0</td>\n",
       "      <td>3.3</td>\n",
       "      <td>0.89</td>\n",
       "      <td>1</td>\n",
       "    </tr>\n",
       "    <tr>\n",
       "      <th>3</th>\n",
       "      <td>58</td>\n",
       "      <td>Male</td>\n",
       "      <td>1.0</td>\n",
       "      <td>0.4</td>\n",
       "      <td>182</td>\n",
       "      <td>14</td>\n",
       "      <td>20</td>\n",
       "      <td>6.8</td>\n",
       "      <td>3.4</td>\n",
       "      <td>1.00</td>\n",
       "      <td>1</td>\n",
       "    </tr>\n",
       "    <tr>\n",
       "      <th>4</th>\n",
       "      <td>72</td>\n",
       "      <td>Male</td>\n",
       "      <td>3.9</td>\n",
       "      <td>2.0</td>\n",
       "      <td>195</td>\n",
       "      <td>27</td>\n",
       "      <td>59</td>\n",
       "      <td>7.3</td>\n",
       "      <td>2.4</td>\n",
       "      <td>0.40</td>\n",
       "      <td>1</td>\n",
       "    </tr>\n",
       "  </tbody>\n",
       "</table>\n",
       "</div>"
      ],
      "text/plain": [
       "   Age  Gender  Total_Bilirubin  Direct_Bilirubin  Alkaline_Phosphotase  \\\n",
       "0   65  Female              0.7               0.1                   187   \n",
       "1   62    Male             10.9               5.5                   699   \n",
       "2   62    Male              7.3               4.1                   490   \n",
       "3   58    Male              1.0               0.4                   182   \n",
       "4   72    Male              3.9               2.0                   195   \n",
       "\n",
       "   Alamine_Aminotransferase  Aspartate_Aminotransferase  Total_Protiens  \\\n",
       "0                        16                          18             6.8   \n",
       "1                        64                         100             7.5   \n",
       "2                        60                          68             7.0   \n",
       "3                        14                          20             6.8   \n",
       "4                        27                          59             7.3   \n",
       "\n",
       "   Albumin  Albumin_and_Globulin_Ratio  Dataset  \n",
       "0      3.3                        0.90        1  \n",
       "1      3.2                        0.74        1  \n",
       "2      3.3                        0.89        1  \n",
       "3      3.4                        1.00        1  \n",
       "4      2.4                        0.40        1  "
      ]
     },
     "execution_count": 5,
     "metadata": {},
     "output_type": "execute_result"
    }
   ],
   "source": [
    "df.head()"
   ]
  },
  {
   "cell_type": "markdown",
   "metadata": {},
   "source": [
    "## Exploratory Data Analysis"
   ]
  },
  {
   "cell_type": "markdown",
   "metadata": {},
   "source": [
    "Filtering categorical data"
   ]
  },
  {
   "cell_type": "code",
   "execution_count": 6,
   "metadata": {},
   "outputs": [
    {
     "data": {
      "text/plain": [
       "Gender    object\n",
       "dtype: object"
      ]
     },
     "execution_count": 6,
     "metadata": {},
     "output_type": "execute_result"
    }
   ],
   "source": [
    "df.dtypes[df.dtypes=='object']"
   ]
  },
  {
   "cell_type": "markdown",
   "metadata": {},
   "source": [
    "## Distribution of Numerical Features"
   ]
  },
  {
   "cell_type": "code",
   "execution_count": 7,
   "metadata": {},
   "outputs": [
    {
     "data": {
      "image/png": "[encoded data removed]",
      "text/plain": [
       "<Figure size 1080x1080 with 12 Axes>"
      ]
     },
     "metadata": {
      "needs_background": "light"
     },
     "output_type": "display_data"
    }
   ],
   "source": [
    "# Plot histogram grid\n",
    "df.hist(figsize=(15,15), xrot=-45, bins=10) ## Display the labels rotated by 45 degress\n",
    "\n",
    "# Clear the text \"residue\"\n",
    "plt.show()"
   ]
  },
  {
   "cell_type": "code",
   "execution_count": 8,
   "metadata": {},
   "outputs": [
    {
     "data": {
      "text/html": [
       "<div>\n",
       "<style scoped>\n",
       "    .dataframe tbody tr th:only-of-type {\n",
       "        vertical-align: middle;\n",
       "    }\n",
       "\n",
       "    .dataframe tbody tr th {\n",
       "        vertical-align: top;\n",
       "    }\n",
       "\n",
       "    .dataframe thead th {\n",
       "        text-align: right;\n",
       "    }\n",
       "</style>\n",
       "<table border=\"1\" class=\"dataframe\">\n",
       "  <thead>\n",
       "    <tr style=\"text-align: right;\">\n",
       "      <th></th>\n",
       "      <th>Age</th>\n",
       "      <th>Total_Bilirubin</th>\n",
       "      <th>Direct_Bilirubin</th>\n",
       "      <th>Alkaline_Phosphotase</th>\n",
       "      <th>Alamine_Aminotransferase</th>\n",
       "      <th>Aspartate_Aminotransferase</th>\n",
       "      <th>Total_Protiens</th>\n",
       "      <th>Albumin</th>\n",
       "      <th>Albumin_and_Globulin_Ratio</th>\n",
       "      <th>Dataset</th>\n",
       "    </tr>\n",
       "  </thead>\n",
       "  <tbody>\n",
       "    <tr>\n",
       "      <th>count</th>\n",
       "      <td>583.000000</td>\n",
       "      <td>583.000000</td>\n",
       "      <td>583.000000</td>\n",
       "      <td>583.000000</td>\n",
       "      <td>583.000000</td>\n",
       "      <td>583.000000</td>\n",
       "      <td>583.000000</td>\n",
       "      <td>583.000000</td>\n",
       "      <td>579.000000</td>\n",
       "      <td>583.000000</td>\n",
       "    </tr>\n",
       "    <tr>\n",
       "      <th>mean</th>\n",
       "      <td>44.746141</td>\n",
       "      <td>3.298799</td>\n",
       "      <td>1.486106</td>\n",
       "      <td>290.576329</td>\n",
       "      <td>80.713551</td>\n",
       "      <td>109.910806</td>\n",
       "      <td>6.483190</td>\n",
       "      <td>3.141852</td>\n",
       "      <td>0.947064</td>\n",
       "      <td>1.286449</td>\n",
       "    </tr>\n",
       "    <tr>\n",
       "      <th>std</th>\n",
       "      <td>16.189833</td>\n",
       "      <td>6.209522</td>\n",
       "      <td>2.808498</td>\n",
       "      <td>242.937989</td>\n",
       "      <td>182.620356</td>\n",
       "      <td>288.918529</td>\n",
       "      <td>1.085451</td>\n",
       "      <td>0.795519</td>\n",
       "      <td>0.319592</td>\n",
       "      <td>0.452490</td>\n",
       "    </tr>\n",
       "    <tr>\n",
       "      <th>min</th>\n",
       "      <td>4.000000</td>\n",
       "      <td>0.400000</td>\n",
       "      <td>0.100000</td>\n",
       "      <td>63.000000</td>\n",
       "      <td>10.000000</td>\n",
       "      <td>10.000000</td>\n",
       "      <td>2.700000</td>\n",
       "      <td>0.900000</td>\n",
       "      <td>0.300000</td>\n",
       "      <td>1.000000</td>\n",
       "    </tr>\n",
       "    <tr>\n",
       "      <th>25%</th>\n",
       "      <td>33.000000</td>\n",
       "      <td>0.800000</td>\n",
       "      <td>0.200000</td>\n",
       "      <td>175.500000</td>\n",
       "      <td>23.000000</td>\n",
       "      <td>25.000000</td>\n",
       "      <td>5.800000</td>\n",
       "      <td>2.600000</td>\n",
       "      <td>0.700000</td>\n",
       "      <td>1.000000</td>\n",
       "    </tr>\n",
       "    <tr>\n",
       "      <th>50%</th>\n",
       "      <td>45.000000</td>\n",
       "      <td>1.000000</td>\n",
       "      <td>0.300000</td>\n",
       "      <td>208.000000</td>\n",
       "      <td>35.000000</td>\n",
       "      <td>42.000000</td>\n",
       "      <td>6.600000</td>\n",
       "      <td>3.100000</td>\n",
       "      <td>0.930000</td>\n",
       "      <td>1.000000</td>\n",
       "    </tr>\n",
       "    <tr>\n",
       "      <th>75%</th>\n",
       "      <td>58.000000</td>\n",
       "      <td>2.600000</td>\n",
       "      <td>1.300000</td>\n",
       "      <td>298.000000</td>\n",
       "      <td>60.500000</td>\n",
       "      <td>87.000000</td>\n",
       "      <td>7.200000</td>\n",
       "      <td>3.800000</td>\n",
       "      <td>1.100000</td>\n",
       "      <td>2.000000</td>\n",
       "    </tr>\n",
       "    <tr>\n",
       "      <th>max</th>\n",
       "      <td>90.000000</td>\n",
       "      <td>75.000000</td>\n",
       "      <td>19.700000</td>\n",
       "      <td>2110.000000</td>\n",
       "      <td>2000.000000</td>\n",
       "      <td>4929.000000</td>\n",
       "      <td>9.600000</td>\n",
       "      <td>5.500000</td>\n",
       "      <td>2.800000</td>\n",
       "      <td>2.000000</td>\n",
       "    </tr>\n",
       "  </tbody>\n",
       "</table>\n",
       "</div>"
      ],
      "text/plain": [
       "              Age  Total_Bilirubin  Direct_Bilirubin  Alkaline_Phosphotase  \\\n",
       "count  583.000000       583.000000        583.000000            583.000000   \n",
       "mean    44.746141         3.298799          1.486106            290.576329   \n",
       "std     16.189833         6.209522          2.808498            242.937989   \n",
       "min      4.000000         0.400000          0.100000             63.000000   \n",
       "25%     33.000000         0.800000          0.200000            175.500000   \n",
       "50%     45.000000         1.000000          0.300000            208.000000   \n",
       "75%     58.000000         2.600000          1.300000            298.000000   \n",
       "max     90.000000        75.000000         19.700000           2110.000000   \n",
       "\n",
       "       Alamine_Aminotransferase  Aspartate_Aminotransferase  Total_Protiens  \\\n",
       "count                583.000000                  583.000000      583.000000   \n",
       "mean                  80.713551                  109.910806        6.483190   \n",
       "std                  182.620356                  288.918529        1.085451   \n",
       "min                   10.000000                   10.000000        2.700000   \n",
       "25%                   23.000000                   25.000000        5.800000   \n",
       "50%                   35.000000                   42.000000        6.600000   \n",
       "75%                   60.500000                   87.000000        7.200000   \n",
       "max                 2000.000000                 4929.000000        9.600000   \n",
       "\n",
       "          Albumin  Albumin_and_Globulin_Ratio     Dataset  \n",
       "count  583.000000                  579.000000  583.000000  \n",
       "mean     3.141852                    0.947064    1.286449  \n",
       "std      0.795519                    0.319592    0.452490  \n",
       "min      0.900000                    0.300000    1.000000  \n",
       "25%      2.600000                    0.700000    1.000000  \n",
       "50%      3.100000                    0.930000    1.000000  \n",
       "75%      3.800000                    1.100000    2.000000  \n",
       "max      5.500000                    2.800000    2.000000  "
      ]
     },
     "execution_count": 8,
     "metadata": {},
     "output_type": "execute_result"
    }
   ],
   "source": [
    "df.describe()"
   ]
  },
  {
   "cell_type": "markdown",
   "metadata": {},
   "source": [
    "It seems there is outlier in Aspartate_Aminotransferase as the max value is very high than mean value"
   ]
  },
  {
   "cell_type": "markdown",
   "metadata": {},
   "source": [
    "Dataset i.e output value has '1' for liver disease and '2' for no liver disease so let's make it 0 for no disease to make it convinient"
   ]
  },
  {
   "cell_type": "code",
   "execution_count": 9,
   "metadata": {
    "tags": []
   },
   "outputs": [],
   "source": [
    "## if score==negative, mark 0 ;else 1 \n",
    "def partition(x):\n",
    "    if x == 2:\n",
    "        return 0\n",
    "    return 1\n",
    "\n",
    "df['Dataset'] = df['Dataset'].map(partition)"
   ]
  },
  {
   "cell_type": "markdown",
   "metadata": {},
   "source": [
    "## Distribution of categorical data"
   ]
  },
  {
   "cell_type": "code",
   "execution_count": 10,
   "metadata": {},
   "outputs": [
    {
     "data": {
      "text/html": [
       "<div>\n",
       "<style scoped>\n",
       "    .dataframe tbody tr th:only-of-type {\n",
       "        vertical-align: middle;\n",
       "    }\n",
       "\n",
       "    .dataframe tbody tr th {\n",
       "        vertical-align: top;\n",
       "    }\n",
       "\n",
       "    .dataframe thead th {\n",
       "        text-align: right;\n",
       "    }\n",
       "</style>\n",
       "<table border=\"1\" class=\"dataframe\">\n",
       "  <thead>\n",
       "    <tr style=\"text-align: right;\">\n",
       "      <th></th>\n",
       "      <th>Gender</th>\n",
       "    </tr>\n",
       "  </thead>\n",
       "  <tbody>\n",
       "    <tr>\n",
       "      <th>count</th>\n",
       "      <td>583</td>\n",
       "    </tr>\n",
       "    <tr>\n",
       "      <th>unique</th>\n",
       "      <td>2</td>\n",
       "    </tr>\n",
       "    <tr>\n",
       "      <th>top</th>\n",
       "      <td>Male</td>\n",
       "    </tr>\n",
       "    <tr>\n",
       "      <th>freq</th>\n",
       "      <td>441</td>\n",
       "    </tr>\n",
       "  </tbody>\n",
       "</table>\n",
       "</div>"
      ],
      "text/plain": [
       "       Gender\n",
       "count     583\n",
       "unique      2\n",
       "top      Male\n",
       "freq      441"
      ]
     },
     "execution_count": 10,
     "metadata": {},
     "output_type": "execute_result"
    }
   ],
   "source": [
    "df.describe(include=['object'])"
   ]
  },
  {
   "cell_type": "markdown",
   "metadata": {},
   "source": [
    "## Bar plots for categorical Features"
   ]
  },
  {
   "cell_type": "code",
   "execution_count": 11,
   "metadata": {},
   "outputs": [
    {
     "data": {
      "text/plain": [
       "<AxesSubplot:xlabel='count', ylabel='Gender'>"
      ]
     },
     "execution_count": 11,
     "metadata": {},
     "output_type": "execute_result"
    },
    {
     "data": {
      "image/png": "[encoded data removed]",
      "text/plain": [
       "<Figure size 360x360 with 1 Axes>"
      ]
     },
     "metadata": {
      "needs_background": "light"
     },
     "output_type": "display_data"
    }
   ],
   "source": [
    "plt.figure(figsize=(5,5))\n",
    "sns.countplot(y='Gender', data=df)"
   ]
  },
  {
   "cell_type": "code",
   "execution_count": 12,
   "metadata": {},
   "outputs": [
    {
     "data": {
      "text/html": [
       "<div>\n",
       "<style scoped>\n",
       "    .dataframe tbody tr th:only-of-type {\n",
       "        vertical-align: middle;\n",
       "    }\n",
       "\n",
       "    .dataframe tbody tr th {\n",
       "        vertical-align: top;\n",
       "    }\n",
       "\n",
       "    .dataframe thead th {\n",
       "        text-align: right;\n",
       "    }\n",
       "</style>\n",
       "<table border=\"1\" class=\"dataframe\">\n",
       "  <thead>\n",
       "    <tr style=\"text-align: right;\">\n",
       "      <th></th>\n",
       "      <th>Dataset</th>\n",
       "      <th>Gender</th>\n",
       "    </tr>\n",
       "  </thead>\n",
       "  <tbody>\n",
       "    <tr>\n",
       "      <th>1</th>\n",
       "      <td>1</td>\n",
       "      <td>Male</td>\n",
       "    </tr>\n",
       "    <tr>\n",
       "      <th>2</th>\n",
       "      <td>1</td>\n",
       "      <td>Male</td>\n",
       "    </tr>\n",
       "    <tr>\n",
       "      <th>3</th>\n",
       "      <td>1</td>\n",
       "      <td>Male</td>\n",
       "    </tr>\n",
       "    <tr>\n",
       "      <th>4</th>\n",
       "      <td>1</td>\n",
       "      <td>Male</td>\n",
       "    </tr>\n",
       "    <tr>\n",
       "      <th>5</th>\n",
       "      <td>1</td>\n",
       "      <td>Male</td>\n",
       "    </tr>\n",
       "  </tbody>\n",
       "</table>\n",
       "</div>"
      ],
      "text/plain": [
       "   Dataset Gender\n",
       "1        1   Male\n",
       "2        1   Male\n",
       "3        1   Male\n",
       "4        1   Male\n",
       "5        1   Male"
      ]
     },
     "execution_count": 12,
     "metadata": {},
     "output_type": "execute_result"
    }
   ],
   "source": [
    "df[df['Gender'] == 'Male'][['Dataset', 'Gender']].head()"
   ]
  },
  {
   "cell_type": "code",
   "execution_count": 13,
   "metadata": {},
   "outputs": [
    {
     "data": {
      "image/png": "[encoded data removed]",
      "text/plain": [
       "<Figure size 410.175x360 with 1 Axes>"
      ]
     },
     "metadata": {
      "needs_background": "light"
     },
     "output_type": "display_data"
    }
   ],
   "source": [
    "sns.factorplot (x=\"Age\", y=\"Gender\", hue=\"Dataset\", data=df);"
   ]
  },
  {
   "cell_type": "markdown",
   "metadata": {},
   "source": [
    "Age seems to be a factor for liver disease for both male and female genders"
   ]
  },
  {
   "cell_type": "code",
   "execution_count": 14,
   "metadata": {},
   "outputs": [
    {
     "name": "stdout",
     "output_type": "stream",
     "text": [
      "Number of patients that are male:  441\n",
      "Number of patients that are female:  142\n"
     ]
    },
    {
     "data": {
      "image/png": "[encoded data removed]",
      "text/plain": [
       "<Figure size 432x288 with 1 Axes>"
      ]
     },
     "metadata": {
      "needs_background": "light"
     },
     "output_type": "display_data"
    }
   ],
   "source": [
    "sns.countplot(data=df, x = 'Gender', label='Count')\n",
    "\n",
    "M, F = df['Gender'].value_counts()\n",
    "print('Number of patients that are male: ',M)\n",
    "print('Number of patients that are female: ',F)"
   ]
  },
  {
   "cell_type": "markdown",
   "metadata": {},
   "source": [
    "There are more male patients than female patients"
   ]
  },
  {
   "cell_type": "markdown",
   "metadata": {},
   "source": [
    "Label Male as 0 and Female as 1"
   ]
  },
  {
   "cell_type": "code",
   "execution_count": 15,
   "metadata": {
    "tags": []
   },
   "outputs": [],
   "source": [
    "## if score==negative, mark 0 ;else 1 \n",
    "def partition(x):\n",
    "    if x =='Male':\n",
    "        return 0\n",
    "    return 1\n",
    "\n",
    "df['Gender'] = df['Gender'].map(partition)"
   ]
  },
  {
   "cell_type": "markdown",
   "metadata": {},
   "source": [
    "#### 2-D Scatter Plot"
   ]
  },
  {
   "cell_type": "code",
   "execution_count": 16,
   "metadata": {},
   "outputs": [
    {
     "data": {
      "text/plain": [
       "<seaborn.axisgrid.FacetGrid at 0x1dbdd4b9a30>"
      ]
     },
     "execution_count": 16,
     "metadata": {},
     "output_type": "execute_result"
    },
    {
     "data": {
      "image/png": "[encoded data removed]",
      "text/plain": [
       "<Figure size 410.175x360 with 1 Axes>"
      ]
     },
     "metadata": {},
     "output_type": "display_data"
    }
   ],
   "source": [
    "sns.set_style('whitegrid')   ## Background Grid\n",
    "sns.FacetGrid(df, hue = 'Dataset', size = 5).map(plt.scatter, 'Total_Bilirubin', 'Direct_Bilirubin').add_legend()"
   ]
  },
  {
   "cell_type": "code",
   "execution_count": 17,
   "metadata": {},
   "outputs": [
    {
     "data": {
      "text/plain": [
       "<seaborn.axisgrid.FacetGrid at 0x1dbdcf84a60>"
      ]
     },
     "execution_count": 17,
     "metadata": {},
     "output_type": "execute_result"
    },
    {
     "data": {
      "image/png": "[encoded data removed]",
      "text/plain": [
       "<Figure size 410.175x360 with 1 Axes>"
      ]
     },
     "metadata": {},
     "output_type": "display_data"
    }
   ],
   "source": [
    "sns.set_style('whitegrid')   ## Background Grid\n",
    "sns.FacetGrid(df, hue = 'Dataset', size = 5).map(plt.scatter, 'Total_Bilirubin', 'Albumin').add_legend()"
   ]
  },
  {
   "cell_type": "code",
   "execution_count": 18,
   "metadata": {},
   "outputs": [
    {
     "data": {
      "text/plain": [
       "<seaborn.axisgrid.FacetGrid at 0x1dbdd4b97c0>"
      ]
     },
     "execution_count": 18,
     "metadata": {},
     "output_type": "execute_result"
    },
    {
     "data": {
      "image/png": "[encoded data removed]",
      "text/plain": [
       "<Figure size 410.175x360 with 1 Axes>"
      ]
     },
     "metadata": {},
     "output_type": "display_data"
    }
   ],
   "source": [
    "sns.set_style('whitegrid')   ## Background Grid\n",
    "sns.FacetGrid(df, hue = 'Dataset', size = 5).map(plt.scatter, 'Total_Protiens', 'Albumin_and_Globulin_Ratio').add_legend()"
   ]
  },
  {
   "cell_type": "markdown",
   "metadata": {},
   "source": [
    "## Correlations\n",
    "* Finally, let's take a look at the relationships between numeric features and other numeric features.\n",
    "* ***Correlation*** is a value between -1 and 1 that represents how closely values for two separate features move in unison.\n",
    "* Positive correlation means that as one feature increases, the other increases; eg. a child's age and her height.\n",
    "* Negative correlation means that as one feature increases, the other decreases; eg. hours spent studying and number of parties attended.\n",
    "* Correlations near -1 or 1 indicate a strong relationship.\n",
    "* Those closer to 0 indicate a weak relationship.\n",
    "* 0 indicates no relationship."
   ]
  },
  {
   "cell_type": "code",
   "execution_count": 19,
   "metadata": {},
   "outputs": [
    {
     "data": {
      "text/html": [
       "<div>\n",
       "<style scoped>\n",
       "    .dataframe tbody tr th:only-of-type {\n",
       "        vertical-align: middle;\n",
       "    }\n",
       "\n",
       "    .dataframe tbody tr th {\n",
       "        vertical-align: top;\n",
       "    }\n",
       "\n",
       "    .dataframe thead th {\n",
       "        text-align: right;\n",
       "    }\n",
       "</style>\n",
       "<table border=\"1\" class=\"dataframe\">\n",
       "  <thead>\n",
       "    <tr style=\"text-align: right;\">\n",
       "      <th></th>\n",
       "      <th>Age</th>\n",
       "      <th>Gender</th>\n",
       "      <th>Total_Bilirubin</th>\n",
       "      <th>Direct_Bilirubin</th>\n",
       "      <th>Alkaline_Phosphotase</th>\n",
       "      <th>Alamine_Aminotransferase</th>\n",
       "      <th>Aspartate_Aminotransferase</th>\n",
       "      <th>Total_Protiens</th>\n",
       "      <th>Albumin</th>\n",
       "      <th>Albumin_and_Globulin_Ratio</th>\n",
       "      <th>Dataset</th>\n",
       "    </tr>\n",
       "  </thead>\n",
       "  <tbody>\n",
       "    <tr>\n",
       "      <th>Age</th>\n",
       "      <td>1.000000</td>\n",
       "      <td>-0.056560</td>\n",
       "      <td>0.011763</td>\n",
       "      <td>0.007529</td>\n",
       "      <td>0.080425</td>\n",
       "      <td>-0.086883</td>\n",
       "      <td>-0.019910</td>\n",
       "      <td>-0.187461</td>\n",
       "      <td>-0.265924</td>\n",
       "      <td>-0.216408</td>\n",
       "      <td>0.137351</td>\n",
       "    </tr>\n",
       "    <tr>\n",
       "      <th>Gender</th>\n",
       "      <td>-0.056560</td>\n",
       "      <td>1.000000</td>\n",
       "      <td>-0.089291</td>\n",
       "      <td>-0.100436</td>\n",
       "      <td>0.027496</td>\n",
       "      <td>-0.082332</td>\n",
       "      <td>-0.080336</td>\n",
       "      <td>0.089121</td>\n",
       "      <td>0.093799</td>\n",
       "      <td>0.003424</td>\n",
       "      <td>-0.082416</td>\n",
       "    </tr>\n",
       "    <tr>\n",
       "      <th>Total_Bilirubin</th>\n",
       "      <td>0.011763</td>\n",
       "      <td>-0.089291</td>\n",
       "      <td>1.000000</td>\n",
       "      <td>0.874618</td>\n",
       "      <td>0.206669</td>\n",
       "      <td>0.214065</td>\n",
       "      <td>0.237831</td>\n",
       "      <td>-0.008099</td>\n",
       "      <td>-0.222250</td>\n",
       "      <td>-0.206267</td>\n",
       "      <td>0.220208</td>\n",
       "    </tr>\n",
       "    <tr>\n",
       "      <th>Direct_Bilirubin</th>\n",
       "      <td>0.007529</td>\n",
       "      <td>-0.100436</td>\n",
       "      <td>0.874618</td>\n",
       "      <td>1.000000</td>\n",
       "      <td>0.234939</td>\n",
       "      <td>0.233894</td>\n",
       "      <td>0.257544</td>\n",
       "      <td>-0.000139</td>\n",
       "      <td>-0.228531</td>\n",
       "      <td>-0.200125</td>\n",
       "      <td>0.246046</td>\n",
       "    </tr>\n",
       "    <tr>\n",
       "      <th>Alkaline_Phosphotase</th>\n",
       "      <td>0.080425</td>\n",
       "      <td>0.027496</td>\n",
       "      <td>0.206669</td>\n",
       "      <td>0.234939</td>\n",
       "      <td>1.000000</td>\n",
       "      <td>0.125680</td>\n",
       "      <td>0.167196</td>\n",
       "      <td>-0.028514</td>\n",
       "      <td>-0.165453</td>\n",
       "      <td>-0.234166</td>\n",
       "      <td>0.184866</td>\n",
       "    </tr>\n",
       "    <tr>\n",
       "      <th>Alamine_Aminotransferase</th>\n",
       "      <td>-0.086883</td>\n",
       "      <td>-0.082332</td>\n",
       "      <td>0.214065</td>\n",
       "      <td>0.233894</td>\n",
       "      <td>0.125680</td>\n",
       "      <td>1.000000</td>\n",
       "      <td>0.791966</td>\n",
       "      <td>-0.042518</td>\n",
       "      <td>-0.029742</td>\n",
       "      <td>-0.002375</td>\n",
       "      <td>0.163416</td>\n",
       "    </tr>\n",
       "    <tr>\n",
       "      <th>Aspartate_Aminotransferase</th>\n",
       "      <td>-0.019910</td>\n",
       "      <td>-0.080336</td>\n",
       "      <td>0.237831</td>\n",
       "      <td>0.257544</td>\n",
       "      <td>0.167196</td>\n",
       "      <td>0.791966</td>\n",
       "      <td>1.000000</td>\n",
       "      <td>-0.025645</td>\n",
       "      <td>-0.085290</td>\n",
       "      <td>-0.070040</td>\n",
       "      <td>0.151934</td>\n",
       "    </tr>\n",
       "    <tr>\n",
       "      <th>Total_Protiens</th>\n",
       "      <td>-0.187461</td>\n",
       "      <td>0.089121</td>\n",
       "      <td>-0.008099</td>\n",
       "      <td>-0.000139</td>\n",
       "      <td>-0.028514</td>\n",
       "      <td>-0.042518</td>\n",
       "      <td>-0.025645</td>\n",
       "      <td>1.000000</td>\n",
       "      <td>0.784053</td>\n",
       "      <td>0.234887</td>\n",
       "      <td>-0.035008</td>\n",
       "    </tr>\n",
       "    <tr>\n",
       "      <th>Albumin</th>\n",
       "      <td>-0.265924</td>\n",
       "      <td>0.093799</td>\n",
       "      <td>-0.222250</td>\n",
       "      <td>-0.228531</td>\n",
       "      <td>-0.165453</td>\n",
       "      <td>-0.029742</td>\n",
       "      <td>-0.085290</td>\n",
       "      <td>0.784053</td>\n",
       "      <td>1.000000</td>\n",
       "      <td>0.689632</td>\n",
       "      <td>-0.161388</td>\n",
       "    </tr>\n",
       "    <tr>\n",
       "      <th>Albumin_and_Globulin_Ratio</th>\n",
       "      <td>-0.216408</td>\n",
       "      <td>0.003424</td>\n",
       "      <td>-0.206267</td>\n",
       "      <td>-0.200125</td>\n",
       "      <td>-0.234166</td>\n",
       "      <td>-0.002375</td>\n",
       "      <td>-0.070040</td>\n",
       "      <td>0.234887</td>\n",
       "      <td>0.689632</td>\n",
       "      <td>1.000000</td>\n",
       "      <td>-0.163131</td>\n",
       "    </tr>\n",
       "    <tr>\n",
       "      <th>Dataset</th>\n",
       "      <td>0.137351</td>\n",
       "      <td>-0.082416</td>\n",
       "      <td>0.220208</td>\n",
       "      <td>0.246046</td>\n",
       "      <td>0.184866</td>\n",
       "      <td>0.163416</td>\n",
       "      <td>0.151934</td>\n",
       "      <td>-0.035008</td>\n",
       "      <td>-0.161388</td>\n",
       "      <td>-0.163131</td>\n",
       "      <td>1.000000</td>\n",
       "    </tr>\n",
       "  </tbody>\n",
       "</table>\n",
       "</div>"
      ],
      "text/plain": [
       "                                 Age    Gender  Total_Bilirubin  \\\n",
       "Age                         1.000000 -0.056560         0.011763   \n",
       "Gender                     -0.056560  1.000000        -0.089291   \n",
       "Total_Bilirubin             0.011763 -0.089291         1.000000   \n",
       "Direct_Bilirubin            0.007529 -0.100436         0.874618   \n",
       "Alkaline_Phosphotase        0.080425  0.027496         0.206669   \n",
       "Alamine_Aminotransferase   -0.086883 -0.082332         0.214065   \n",
       "Aspartate_Aminotransferase -0.019910 -0.080336         0.237831   \n",
       "Total_Protiens             -0.187461  0.089121        -0.008099   \n",
       "Albumin                    -0.265924  0.093799        -0.222250   \n",
       "Albumin_and_Globulin_Ratio -0.216408  0.003424        -0.206267   \n",
       "Dataset                     0.137351 -0.082416         0.220208   \n",
       "\n",
       "                            Direct_Bilirubin  Alkaline_Phosphotase  \\\n",
       "Age                                 0.007529              0.080425   \n",
       "Gender                             -0.100436              0.027496   \n",
       "Total_Bilirubin                     0.874618              0.206669   \n",
       "Direct_Bilirubin                    1.000000              0.234939   \n",
       "Alkaline_Phosphotase                0.234939              1.000000   \n",
       "Alamine_Aminotransferase            0.233894              0.125680   \n",
       "Aspartate_Aminotransferase          0.257544              0.167196   \n",
       "Total_Protiens                     -0.000139             -0.028514   \n",
       "Albumin                            -0.228531             -0.165453   \n",
       "Albumin_and_Globulin_Ratio         -0.200125             -0.234166   \n",
       "Dataset                             0.246046              0.184866   \n",
       "\n",
       "                            Alamine_Aminotransferase  \\\n",
       "Age                                        -0.086883   \n",
       "Gender                                     -0.082332   \n",
       "Total_Bilirubin                             0.214065   \n",
       "Direct_Bilirubin                            0.233894   \n",
       "Alkaline_Phosphotase                        0.125680   \n",
       "Alamine_Aminotransferase                    1.000000   \n",
       "Aspartate_Aminotransferase                  0.791966   \n",
       "Total_Protiens                             -0.042518   \n",
       "Albumin                                    -0.029742   \n",
       "Albumin_and_Globulin_Ratio                 -0.002375   \n",
       "Dataset                                     0.163416   \n",
       "\n",
       "                            Aspartate_Aminotransferase  Total_Protiens  \\\n",
       "Age                                          -0.019910       -0.187461   \n",
       "Gender                                       -0.080336        0.089121   \n",
       "Total_Bilirubin                               0.237831       -0.008099   \n",
       "Direct_Bilirubin                              0.257544       -0.000139   \n",
       "Alkaline_Phosphotase                          0.167196       -0.028514   \n",
       "Alamine_Aminotransferase                      0.791966       -0.042518   \n",
       "Aspartate_Aminotransferase                    1.000000       -0.025645   \n",
       "Total_Protiens                               -0.025645        1.000000   \n",
       "Albumin                                      -0.085290        0.784053   \n",
       "Albumin_and_Globulin_Ratio                   -0.070040        0.234887   \n",
       "Dataset                                       0.151934       -0.035008   \n",
       "\n",
       "                             Albumin  Albumin_and_Globulin_Ratio   Dataset  \n",
       "Age                        -0.265924                   -0.216408  0.137351  \n",
       "Gender                      0.093799                    0.003424 -0.082416  \n",
       "Total_Bilirubin            -0.222250                   -0.206267  0.220208  \n",
       "Direct_Bilirubin           -0.228531                   -0.200125  0.246046  \n",
       "Alkaline_Phosphotase       -0.165453                   -0.234166  0.184866  \n",
       "Alamine_Aminotransferase   -0.029742                   -0.002375  0.163416  \n",
       "Aspartate_Aminotransferase -0.085290                   -0.070040  0.151934  \n",
       "Total_Protiens              0.784053                    0.234887 -0.035008  \n",
       "Albumin                     1.000000                    0.689632 -0.161388  \n",
       "Albumin_and_Globulin_Ratio  0.689632                    1.000000 -0.163131  \n",
       "Dataset                    -0.161388                   -0.163131  1.000000  "
      ]
     },
     "execution_count": 19,
     "metadata": {},
     "output_type": "execute_result"
    }
   ],
   "source": [
    "df.corr()"
   ]
  },
  {
   "cell_type": "code",
   "execution_count": 20,
   "metadata": {},
   "outputs": [
    {
     "data": {
      "text/plain": [
       "<AxesSubplot:>"
      ]
     },
     "execution_count": 20,
     "metadata": {},
     "output_type": "execute_result"
    },
    {
     "data": {
      "image/png": "[encoded data removed]",
      "text/plain": [
       "<Figure size 720x720 with 2 Axes>"
      ]
     },
     "metadata": {},
     "output_type": "display_data"
    }
   ],
   "source": [
    "plt.figure(figsize=(10,10))\n",
    "sns.heatmap(df.corr())"
   ]
  },
  {
   "cell_type": "code",
   "execution_count": 21,
   "metadata": {},
   "outputs": [
    {
     "data": {
      "image/png": "[encoded data removed]",
      "text/plain": [
       "<Figure size 720x720 with 2 Axes>"
      ]
     },
     "metadata": {},
     "output_type": "display_data"
    }
   ],
   "source": [
    "mask=np.zeros_like(df.corr())\n",
    "mask[np.triu_indices_from(mask)] = True\n",
    "plt.figure(figsize=(10,10))\n",
    "with sns.axes_style(\"white\"):\n",
    "    ax = sns.heatmap(df.corr()*100, mask=mask, fmt='.0f', annot=True, lw=1, cmap=ListedColormap(['green', 'yellow', 'red','blue']))"
   ]
  },
  {
   "cell_type": "markdown",
   "metadata": {},
   "source": [
    "## Data Cleaning"
   ]
  },
  {
   "cell_type": "code",
   "execution_count": 22,
   "metadata": {},
   "outputs": [
    {
     "name": "stdout",
     "output_type": "stream",
     "text": [
      "(570, 11)\n"
     ]
    }
   ],
   "source": [
    "df = df.drop_duplicates()\n",
    "print( df.shape )"
   ]
  },
  {
   "cell_type": "markdown",
   "metadata": {},
   "source": [
    "There were 13 duplicates"
   ]
  },
  {
   "cell_type": "markdown",
   "metadata": {},
   "source": [
    "## Removing Outliers"
   ]
  },
  {
   "cell_type": "code",
   "execution_count": 23,
   "metadata": {},
   "outputs": [
    {
     "data": {
      "text/plain": [
       "<AxesSubplot:xlabel='Aspartate_Aminotransferase'>"
      ]
     },
     "execution_count": 23,
     "metadata": {},
     "output_type": "execute_result"
    },
    {
     "data": {
      "image/png": "[encoded data removed]",
      "text/plain": [
       "<Figure size 432x288 with 1 Axes>"
      ]
     },
     "metadata": {},
     "output_type": "display_data"
    }
   ],
   "source": [
    "sns.boxplot(df.Aspartate_Aminotransferase)"
   ]
  },
  {
   "cell_type": "code",
   "execution_count": 24,
   "metadata": {},
   "outputs": [
    {
     "data": {
      "text/plain": [
       "135    4929\n",
       "117    2946\n",
       "118    1600\n",
       "207    1500\n",
       "199    1050\n",
       "Name: Aspartate_Aminotransferase, dtype: int64"
      ]
     },
     "execution_count": 24,
     "metadata": {},
     "output_type": "execute_result"
    }
   ],
   "source": [
    "df.Aspartate_Aminotransferase.sort_values(ascending=False).head()"
   ]
  },
  {
   "cell_type": "code",
   "execution_count": 25,
   "metadata": {},
   "outputs": [
    {
     "data": {
      "text/plain": [
       "(569, 11)"
      ]
     },
     "execution_count": 25,
     "metadata": {},
     "output_type": "execute_result"
    }
   ],
   "source": [
    "df = df[df.Aspartate_Aminotransferase <=3000 ]\n",
    "df.shape"
   ]
  },
  {
   "cell_type": "code",
   "execution_count": 26,
   "metadata": {},
   "outputs": [
    {
     "data": {
      "text/plain": [
       "<AxesSubplot:xlabel='Aspartate_Aminotransferase'>"
      ]
     },
     "execution_count": 26,
     "metadata": {},
     "output_type": "execute_result"
    },
    {
     "data": {
      "image/png": "[encoded data removed]",
      "text/plain": [
       "<Figure size 432x288 with 1 Axes>"
      ]
     },
     "metadata": {},
     "output_type": "display_data"
    }
   ],
   "source": [
    "sns.boxplot(df.Aspartate_Aminotransferase)"
   ]
  },
  {
   "cell_type": "code",
   "execution_count": 27,
   "metadata": {},
   "outputs": [
    {
     "data": {
      "text/plain": [
       "117    2946\n",
       "118    1600\n",
       "207    1500\n",
       "119    1050\n",
       "199    1050\n",
       "Name: Aspartate_Aminotransferase, dtype: int64"
      ]
     },
     "execution_count": 27,
     "metadata": {},
     "output_type": "execute_result"
    }
   ],
   "source": [
    "df.Aspartate_Aminotransferase.sort_values(ascending=False).head()"
   ]
  },
  {
   "cell_type": "code",
   "execution_count": 28,
   "metadata": {},
   "outputs": [
    {
     "data": {
      "text/plain": [
       "(568, 11)"
      ]
     },
     "execution_count": 28,
     "metadata": {},
     "output_type": "execute_result"
    }
   ],
   "source": [
    "df = df[df.Aspartate_Aminotransferase <=2500 ]\n",
    "df.shape"
   ]
  },
  {
   "cell_type": "code",
   "execution_count": 29,
   "metadata": {},
   "outputs": [
    {
     "data": {
      "text/plain": [
       "True"
      ]
     },
     "execution_count": 29,
     "metadata": {},
     "output_type": "execute_result"
    }
   ],
   "source": [
    "df.isnull().values.any()"
   ]
  },
  {
   "cell_type": "code",
   "execution_count": 30,
   "metadata": {
    "tags": []
   },
   "outputs": [],
   "source": [
    "df=df.dropna(how='any')  "
   ]
  },
  {
   "cell_type": "code",
   "execution_count": 31,
   "metadata": {},
   "outputs": [
    {
     "data": {
      "text/plain": [
       "(564, 11)"
      ]
     },
     "execution_count": 31,
     "metadata": {},
     "output_type": "execute_result"
    }
   ],
   "source": [
    "df.shape"
   ]
  },
  {
   "cell_type": "code",
   "execution_count": 32,
   "metadata": {},
   "outputs": [
    {
     "data": {
      "text/html": [
       "<div>\n",
       "<style scoped>\n",
       "    .dataframe tbody tr th:only-of-type {\n",
       "        vertical-align: middle;\n",
       "    }\n",
       "\n",
       "    .dataframe tbody tr th {\n",
       "        vertical-align: top;\n",
       "    }\n",
       "\n",
       "    .dataframe thead th {\n",
       "        text-align: right;\n",
       "    }\n",
       "</style>\n",
       "<table border=\"1\" class=\"dataframe\">\n",
       "  <thead>\n",
       "    <tr style=\"text-align: right;\">\n",
       "      <th></th>\n",
       "      <th>Age</th>\n",
       "      <th>Gender</th>\n",
       "      <th>Total_Bilirubin</th>\n",
       "      <th>Direct_Bilirubin</th>\n",
       "      <th>Alkaline_Phosphotase</th>\n",
       "      <th>Alamine_Aminotransferase</th>\n",
       "      <th>Aspartate_Aminotransferase</th>\n",
       "      <th>Total_Protiens</th>\n",
       "      <th>Albumin</th>\n",
       "      <th>Albumin_and_Globulin_Ratio</th>\n",
       "      <th>Dataset</th>\n",
       "    </tr>\n",
       "  </thead>\n",
       "  <tbody>\n",
       "    <tr>\n",
       "      <th>0</th>\n",
       "      <td>65</td>\n",
       "      <td>1</td>\n",
       "      <td>0.7</td>\n",
       "      <td>0.1</td>\n",
       "      <td>187</td>\n",
       "      <td>16</td>\n",
       "      <td>18</td>\n",
       "      <td>6.8</td>\n",
       "      <td>3.3</td>\n",
       "      <td>0.90</td>\n",
       "      <td>1</td>\n",
       "    </tr>\n",
       "    <tr>\n",
       "      <th>1</th>\n",
       "      <td>62</td>\n",
       "      <td>0</td>\n",
       "      <td>10.9</td>\n",
       "      <td>5.5</td>\n",
       "      <td>699</td>\n",
       "      <td>64</td>\n",
       "      <td>100</td>\n",
       "      <td>7.5</td>\n",
       "      <td>3.2</td>\n",
       "      <td>0.74</td>\n",
       "      <td>1</td>\n",
       "    </tr>\n",
       "    <tr>\n",
       "      <th>2</th>\n",
       "      <td>62</td>\n",
       "      <td>0</td>\n",
       "      <td>7.3</td>\n",
       "      <td>4.1</td>\n",
       "      <td>490</td>\n",
       "      <td>60</td>\n",
       "      <td>68</td>\n",
       "      <td>7.0</td>\n",
       "      <td>3.3</td>\n",
       "      <td>0.89</td>\n",
       "      <td>1</td>\n",
       "    </tr>\n",
       "    <tr>\n",
       "      <th>3</th>\n",
       "      <td>58</td>\n",
       "      <td>0</td>\n",
       "      <td>1.0</td>\n",
       "      <td>0.4</td>\n",
       "      <td>182</td>\n",
       "      <td>14</td>\n",
       "      <td>20</td>\n",
       "      <td>6.8</td>\n",
       "      <td>3.4</td>\n",
       "      <td>1.00</td>\n",
       "      <td>1</td>\n",
       "    </tr>\n",
       "    <tr>\n",
       "      <th>4</th>\n",
       "      <td>72</td>\n",
       "      <td>0</td>\n",
       "      <td>3.9</td>\n",
       "      <td>2.0</td>\n",
       "      <td>195</td>\n",
       "      <td>27</td>\n",
       "      <td>59</td>\n",
       "      <td>7.3</td>\n",
       "      <td>2.4</td>\n",
       "      <td>0.40</td>\n",
       "      <td>1</td>\n",
       "    </tr>\n",
       "  </tbody>\n",
       "</table>\n",
       "</div>"
      ],
      "text/plain": [
       "   Age  Gender  Total_Bilirubin  Direct_Bilirubin  Alkaline_Phosphotase  \\\n",
       "0   65       1              0.7               0.1                   187   \n",
       "1   62       0             10.9               5.5                   699   \n",
       "2   62       0              7.3               4.1                   490   \n",
       "3   58       0              1.0               0.4                   182   \n",
       "4   72       0              3.9               2.0                   195   \n",
       "\n",
       "   Alamine_Aminotransferase  Aspartate_Aminotransferase  Total_Protiens  \\\n",
       "0                        16                          18             6.8   \n",
       "1                        64                         100             7.5   \n",
       "2                        60                          68             7.0   \n",
       "3                        14                          20             6.8   \n",
       "4                        27                          59             7.3   \n",
       "\n",
       "   Albumin  Albumin_and_Globulin_Ratio  Dataset  \n",
       "0      3.3                        0.90        1  \n",
       "1      3.2                        0.74        1  \n",
       "2      3.3                        0.89        1  \n",
       "3      3.4                        1.00        1  \n",
       "4      2.4                        0.40        1  "
      ]
     },
     "execution_count": 32,
     "metadata": {},
     "output_type": "execute_result"
    }
   ],
   "source": [
    "df.head()"
   ]
  },
  {
   "cell_type": "markdown",
   "metadata": {},
   "source": [
    "## Machine Learning Models"
   ]
  },
  {
   "cell_type": "markdown",
   "metadata": {},
   "source": [
    "### Data Preparation"
   ]
  },
  {
   "cell_type": "code",
   "execution_count": 33,
   "metadata": {
    "tags": []
   },
   "outputs": [],
   "source": [
    "# Create separate object for target variable\n",
    "y = df.Dataset\n",
    "\n",
    "# Create separate object for input features\n",
    "X = df.drop('Dataset', axis=1)"
   ]
  },
  {
   "cell_type": "code",
   "execution_count": 34,
   "metadata": {
    "tags": []
   },
   "outputs": [],
   "source": [
    "# Split X and y into train and test sets\n",
    "X_train, X_test, y_train, y_test = train_test_split(X, y, \n",
    "                                                    test_size=0.3, \n",
    "                                                    random_state=0,\n",
    "                                                    stratify=df.Dataset)"
   ]
  },
  {
   "cell_type": "code",
   "execution_count": 35,
   "metadata": {},
   "outputs": [
    {
     "name": "stdout",
     "output_type": "stream",
     "text": [
      "(394, 10) (170, 10) (394,) (170,)\n"
     ]
    }
   ],
   "source": [
    "# Print number of observations in X_train, X_test, y_train, and y_test\n",
    "print(X_train.shape, X_test.shape, y_train.shape, y_test.shape)"
   ]
  },
  {
   "cell_type": "markdown",
   "metadata": {},
   "source": [
    "### Data standardization"
   ]
  },
  {
   "cell_type": "code",
   "execution_count": 36,
   "metadata": {
    "tags": []
   },
   "outputs": [],
   "source": [
    "train_mean = X_train.mean()\n",
    "train_std = X_train.std()"
   ]
  },
  {
   "cell_type": "code",
   "execution_count": 37,
   "metadata": {
    "tags": []
   },
   "outputs": [],
   "source": [
    "## Standardize the train data set\n",
    "X_train = (X_train - train_mean) / train_std"
   ]
  },
  {
   "cell_type": "code",
   "execution_count": 38,
   "metadata": {},
   "outputs": [
    {
     "data": {
      "text/html": [
       "<div>\n",
       "<style scoped>\n",
       "    .dataframe tbody tr th:only-of-type {\n",
       "        vertical-align: middle;\n",
       "    }\n",
       "\n",
       "    .dataframe tbody tr th {\n",
       "        vertical-align: top;\n",
       "    }\n",
       "\n",
       "    .dataframe thead th {\n",
       "        text-align: right;\n",
       "    }\n",
       "</style>\n",
       "<table border=\"1\" class=\"dataframe\">\n",
       "  <thead>\n",
       "    <tr style=\"text-align: right;\">\n",
       "      <th></th>\n",
       "      <th>Age</th>\n",
       "      <th>Gender</th>\n",
       "      <th>Total_Bilirubin</th>\n",
       "      <th>Direct_Bilirubin</th>\n",
       "      <th>Alkaline_Phosphotase</th>\n",
       "      <th>Alamine_Aminotransferase</th>\n",
       "      <th>Aspartate_Aminotransferase</th>\n",
       "      <th>Total_Protiens</th>\n",
       "      <th>Albumin</th>\n",
       "      <th>Albumin_and_Globulin_Ratio</th>\n",
       "    </tr>\n",
       "  </thead>\n",
       "  <tbody>\n",
       "    <tr>\n",
       "      <th>count</th>\n",
       "      <td>3.940000e+02</td>\n",
       "      <td>3.940000e+02</td>\n",
       "      <td>3.940000e+02</td>\n",
       "      <td>3.940000e+02</td>\n",
       "      <td>3.940000e+02</td>\n",
       "      <td>3.940000e+02</td>\n",
       "      <td>3.940000e+02</td>\n",
       "      <td>3.940000e+02</td>\n",
       "      <td>3.940000e+02</td>\n",
       "      <td>3.940000e+02</td>\n",
       "    </tr>\n",
       "    <tr>\n",
       "      <th>mean</th>\n",
       "      <td>-1.014417e-16</td>\n",
       "      <td>-3.268677e-17</td>\n",
       "      <td>3.071429e-16</td>\n",
       "      <td>-9.008586e-16</td>\n",
       "      <td>-9.228377e-17</td>\n",
       "      <td>3.155964e-17</td>\n",
       "      <td>2.254260e-18</td>\n",
       "      <td>-1.348047e-15</td>\n",
       "      <td>-3.231200e-15</td>\n",
       "      <td>-7.908226e-16</td>\n",
       "    </tr>\n",
       "    <tr>\n",
       "      <th>std</th>\n",
       "      <td>1.000000e+00</td>\n",
       "      <td>1.000000e+00</td>\n",
       "      <td>1.000000e+00</td>\n",
       "      <td>1.000000e+00</td>\n",
       "      <td>1.000000e+00</td>\n",
       "      <td>1.000000e+00</td>\n",
       "      <td>1.000000e+00</td>\n",
       "      <td>1.000000e+00</td>\n",
       "      <td>1.000000e+00</td>\n",
       "      <td>1.000000e+00</td>\n",
       "    </tr>\n",
       "    <tr>\n",
       "      <th>min</th>\n",
       "      <td>-2.609772e+00</td>\n",
       "      <td>-5.473278e-01</td>\n",
       "      <td>-4.570968e-01</td>\n",
       "      <td>-4.967282e-01</td>\n",
       "      <td>-9.478507e-01</td>\n",
       "      <td>-3.999413e-01</td>\n",
       "      <td>-4.728145e-01</td>\n",
       "      <td>-3.285639e+00</td>\n",
       "      <td>-2.750957e+00</td>\n",
       "      <td>-2.057111e+00</td>\n",
       "    </tr>\n",
       "    <tr>\n",
       "      <th>25%</th>\n",
       "      <td>-7.944028e-01</td>\n",
       "      <td>-5.473278e-01</td>\n",
       "      <td>-3.969294e-01</td>\n",
       "      <td>-4.623568e-01</td>\n",
       "      <td>-4.750931e-01</td>\n",
       "      <td>-3.207875e-01</td>\n",
       "      <td>-3.922670e-01</td>\n",
       "      <td>-7.312226e-01</td>\n",
       "      <td>-7.405196e-01</td>\n",
       "      <td>-7.644963e-01</td>\n",
       "    </tr>\n",
       "    <tr>\n",
       "      <th>50%</th>\n",
       "      <td>1.938343e-02</td>\n",
       "      <td>-5.473278e-01</td>\n",
       "      <td>-3.668457e-01</td>\n",
       "      <td>-4.279853e-01</td>\n",
       "      <td>-3.294669e-01</td>\n",
       "      <td>-2.477225e-01</td>\n",
       "      <td>-3.059663e-01</td>\n",
       "      <td>-1.389277e-03</td>\n",
       "      <td>-1.122579e-01</td>\n",
       "      <td>7.570326e-02</td>\n",
       "    </tr>\n",
       "    <tr>\n",
       "      <th>75%</th>\n",
       "      <td>7.705707e-01</td>\n",
       "      <td>-5.473278e-01</td>\n",
       "      <td>-1.111341e-01</td>\n",
       "      <td>-8.427106e-02</td>\n",
       "      <td>4.409605e-02</td>\n",
       "      <td>-9.702594e-02</td>\n",
       "      <td>-7.583080e-02</td>\n",
       "      <td>6.372149e-01</td>\n",
       "      <td>7.673084e-01</td>\n",
       "      <td>5.281184e-01</td>\n",
       "    </tr>\n",
       "    <tr>\n",
       "      <th>max</th>\n",
       "      <td>2.460742e+00</td>\n",
       "      <td>1.822421e+00</td>\n",
       "      <td>1.076413e+01</td>\n",
       "      <td>6.240071e+00</td>\n",
       "      <td>7.692639e+00</td>\n",
       "      <td>9.768272e+00</td>\n",
       "      <td>8.669316e+00</td>\n",
       "      <td>2.826715e+00</td>\n",
       "      <td>2.400789e+00</td>\n",
       "      <td>5.052270e+00</td>\n",
       "    </tr>\n",
       "  </tbody>\n",
       "</table>\n",
       "</div>"
      ],
      "text/plain": [
       "                Age        Gender  Total_Bilirubin  Direct_Bilirubin  \\\n",
       "count  3.940000e+02  3.940000e+02     3.940000e+02      3.940000e+02   \n",
       "mean  -1.014417e-16 -3.268677e-17     3.071429e-16     -9.008586e-16   \n",
       "std    1.000000e+00  1.000000e+00     1.000000e+00      1.000000e+00   \n",
       "min   -2.609772e+00 -5.473278e-01    -4.570968e-01     -4.967282e-01   \n",
       "25%   -7.944028e-01 -5.473278e-01    -3.969294e-01     -4.623568e-01   \n",
       "50%    1.938343e-02 -5.473278e-01    -3.668457e-01     -4.279853e-01   \n",
       "75%    7.705707e-01 -5.473278e-01    -1.111341e-01     -8.427106e-02   \n",
       "max    2.460742e+00  1.822421e+00     1.076413e+01      6.240071e+00   \n",
       "\n",
       "       Alkaline_Phosphotase  Alamine_Aminotransferase  \\\n",
       "count          3.940000e+02              3.940000e+02   \n",
       "mean          -9.228377e-17              3.155964e-17   \n",
       "std            1.000000e+00              1.000000e+00   \n",
       "min           -9.478507e-01             -3.999413e-01   \n",
       "25%           -4.750931e-01             -3.207875e-01   \n",
       "50%           -3.294669e-01             -2.477225e-01   \n",
       "75%            4.409605e-02             -9.702594e-02   \n",
       "max            7.692639e+00              9.768272e+00   \n",
       "\n",
       "       Aspartate_Aminotransferase  Total_Protiens       Albumin  \\\n",
       "count                3.940000e+02    3.940000e+02  3.940000e+02   \n",
       "mean                 2.254260e-18   -1.348047e-15 -3.231200e-15   \n",
       "std                  1.000000e+00    1.000000e+00  1.000000e+00   \n",
       "min                 -4.728145e-01   -3.285639e+00 -2.750957e+00   \n",
       "25%                 -3.922670e-01   -7.312226e-01 -7.405196e-01   \n",
       "50%                 -3.059663e-01   -1.389277e-03 -1.122579e-01   \n",
       "75%                 -7.583080e-02    6.372149e-01  7.673084e-01   \n",
       "max                  8.669316e+00    2.826715e+00  2.400789e+00   \n",
       "\n",
       "       Albumin_and_Globulin_Ratio  \n",
       "count                3.940000e+02  \n",
       "mean                -7.908226e-16  \n",
       "std                  1.000000e+00  \n",
       "min                 -2.057111e+00  \n",
       "25%                 -7.644963e-01  \n",
       "50%                  7.570326e-02  \n",
       "75%                  5.281184e-01  \n",
       "max                  5.052270e+00  "
      ]
     },
     "execution_count": 38,
     "metadata": {},
     "output_type": "execute_result"
    }
   ],
   "source": [
    "## Check for mean and std dev.\n",
    "X_train.describe()"
   ]
  },
  {
   "cell_type": "code",
   "execution_count": 39,
   "metadata": {
    "tags": []
   },
   "outputs": [],
   "source": [
    "## Note: We use train_mean and train_std_dev to standardize test data set\n",
    "X_test = (X_test - train_mean) / train_std"
   ]
  },
  {
   "cell_type": "code",
   "execution_count": 40,
   "metadata": {},
   "outputs": [
    {
     "data": {
      "text/html": [
       "<div>\n",
       "<style scoped>\n",
       "    .dataframe tbody tr th:only-of-type {\n",
       "        vertical-align: middle;\n",
       "    }\n",
       "\n",
       "    .dataframe tbody tr th {\n",
       "        vertical-align: top;\n",
       "    }\n",
       "\n",
       "    .dataframe thead th {\n",
       "        text-align: right;\n",
       "    }\n",
       "</style>\n",
       "<table border=\"1\" class=\"dataframe\">\n",
       "  <thead>\n",
       "    <tr style=\"text-align: right;\">\n",
       "      <th></th>\n",
       "      <th>Age</th>\n",
       "      <th>Gender</th>\n",
       "      <th>Total_Bilirubin</th>\n",
       "      <th>Direct_Bilirubin</th>\n",
       "      <th>Alkaline_Phosphotase</th>\n",
       "      <th>Alamine_Aminotransferase</th>\n",
       "      <th>Aspartate_Aminotransferase</th>\n",
       "      <th>Total_Protiens</th>\n",
       "      <th>Albumin</th>\n",
       "      <th>Albumin_and_Globulin_Ratio</th>\n",
       "    </tr>\n",
       "  </thead>\n",
       "  <tbody>\n",
       "    <tr>\n",
       "      <th>count</th>\n",
       "      <td>170.000000</td>\n",
       "      <td>170.000000</td>\n",
       "      <td>170.000000</td>\n",
       "      <td>170.000000</td>\n",
       "      <td>170.000000</td>\n",
       "      <td>170.000000</td>\n",
       "      <td>170.000000</td>\n",
       "      <td>170.000000</td>\n",
       "      <td>170.000000</td>\n",
       "      <td>170.000000</td>\n",
       "    </tr>\n",
       "    <tr>\n",
       "      <th>mean</th>\n",
       "      <td>-0.169886</td>\n",
       "      <td>0.107838</td>\n",
       "      <td>-0.065212</td>\n",
       "      <td>-0.062637</td>\n",
       "      <td>0.052364</td>\n",
       "      <td>-0.020612</td>\n",
       "      <td>0.059915</td>\n",
       "      <td>0.284104</td>\n",
       "      <td>0.238829</td>\n",
       "      <td>0.124366</td>\n",
       "    </tr>\n",
       "    <tr>\n",
       "      <th>std</th>\n",
       "      <td>1.053615</td>\n",
       "      <td>1.063007</td>\n",
       "      <td>0.800553</td>\n",
       "      <td>0.912979</td>\n",
       "      <td>1.097240</td>\n",
       "      <td>0.818079</td>\n",
       "      <td>0.976194</td>\n",
       "      <td>0.950912</td>\n",
       "      <td>0.985593</td>\n",
       "      <td>1.100236</td>\n",
       "    </tr>\n",
       "    <tr>\n",
       "      <th>min</th>\n",
       "      <td>-2.484574</td>\n",
       "      <td>-0.547328</td>\n",
       "      <td>-0.442055</td>\n",
       "      <td>-0.496728</td>\n",
       "      <td>-0.833882</td>\n",
       "      <td>-0.393853</td>\n",
       "      <td>-0.478568</td>\n",
       "      <td>-3.376868</td>\n",
       "      <td>-2.750957</td>\n",
       "      <td>-2.057111</td>\n",
       "    </tr>\n",
       "    <tr>\n",
       "      <th>25%</th>\n",
       "      <td>-0.857002</td>\n",
       "      <td>-0.547328</td>\n",
       "      <td>-0.396929</td>\n",
       "      <td>-0.462357</td>\n",
       "      <td>-0.457154</td>\n",
       "      <td>-0.320788</td>\n",
       "      <td>-0.386514</td>\n",
       "      <td>-0.275077</td>\n",
       "      <td>-0.363563</td>\n",
       "      <td>-0.489816</td>\n",
       "    </tr>\n",
       "    <tr>\n",
       "      <th>50%</th>\n",
       "      <td>-0.074515</td>\n",
       "      <td>-0.547328</td>\n",
       "      <td>-0.381888</td>\n",
       "      <td>-0.427985</td>\n",
       "      <td>-0.346351</td>\n",
       "      <td>-0.247723</td>\n",
       "      <td>-0.294459</td>\n",
       "      <td>0.454757</td>\n",
       "      <td>0.264699</td>\n",
       "      <td>-0.118189</td>\n",
       "    </tr>\n",
       "    <tr>\n",
       "      <th>75%</th>\n",
       "      <td>0.582774</td>\n",
       "      <td>1.822421</td>\n",
       "      <td>-0.216427</td>\n",
       "      <td>-0.170200</td>\n",
       "      <td>0.044096</td>\n",
       "      <td>-0.090937</td>\n",
       "      <td>-0.006790</td>\n",
       "      <td>0.819673</td>\n",
       "      <td>1.018613</td>\n",
       "      <td>0.770484</td>\n",
       "    </tr>\n",
       "    <tr>\n",
       "      <th>max</th>\n",
       "      <td>2.773737</td>\n",
       "      <td>1.822421</td>\n",
       "      <td>3.649330</td>\n",
       "      <td>3.868443</td>\n",
       "      <td>6.173061</td>\n",
       "      <td>7.150109</td>\n",
       "      <td>5.504954</td>\n",
       "      <td>2.917944</td>\n",
       "      <td>3.029050</td>\n",
       "      <td>6.021731</td>\n",
       "    </tr>\n",
       "  </tbody>\n",
       "</table>\n",
       "</div>"
      ],
      "text/plain": [
       "              Age      Gender  Total_Bilirubin  Direct_Bilirubin  \\\n",
       "count  170.000000  170.000000       170.000000        170.000000   \n",
       "mean    -0.169886    0.107838        -0.065212         -0.062637   \n",
       "std      1.053615    1.063007         0.800553          0.912979   \n",
       "min     -2.484574   -0.547328        -0.442055         -0.496728   \n",
       "25%     -0.857002   -0.547328        -0.396929         -0.462357   \n",
       "50%     -0.074515   -0.547328        -0.381888         -0.427985   \n",
       "75%      0.582774    1.822421        -0.216427         -0.170200   \n",
       "max      2.773737    1.822421         3.649330          3.868443   \n",
       "\n",
       "       Alkaline_Phosphotase  Alamine_Aminotransferase  \\\n",
       "count            170.000000                170.000000   \n",
       "mean               0.052364                 -0.020612   \n",
       "std                1.097240                  0.818079   \n",
       "min               -0.833882                 -0.393853   \n",
       "25%               -0.457154                 -0.320788   \n",
       "50%               -0.346351                 -0.247723   \n",
       "75%                0.044096                 -0.090937   \n",
       "max                6.173061                  7.150109   \n",
       "\n",
       "       Aspartate_Aminotransferase  Total_Protiens     Albumin  \\\n",
       "count                  170.000000      170.000000  170.000000   \n",
       "mean                     0.059915        0.284104    0.238829   \n",
       "std                      0.976194        0.950912    0.985593   \n",
       "min                     -0.478568       -3.376868   -2.750957   \n",
       "25%                     -0.386514       -0.275077   -0.363563   \n",
       "50%                     -0.294459        0.454757    0.264699   \n",
       "75%                     -0.006790        0.819673    1.018613   \n",
       "max                      5.504954        2.917944    3.029050   \n",
       "\n",
       "       Albumin_and_Globulin_Ratio  \n",
       "count                  170.000000  \n",
       "mean                     0.124366  \n",
       "std                      1.100236  \n",
       "min                     -2.057111  \n",
       "25%                     -0.489816  \n",
       "50%                     -0.118189  \n",
       "75%                      0.770484  \n",
       "max                      6.021731  "
      ]
     },
     "execution_count": 40,
     "metadata": {},
     "output_type": "execute_result"
    }
   ],
   "source": [
    "## Check for mean and std dev. - not exactly 0 and 1\n",
    "X_test.describe()"
   ]
  },
  {
   "cell_type": "markdown",
   "metadata": {},
   "source": [
    "# LR"
   ]
  },
  {
   "cell_type": "code",
   "execution_count": 41,
   "metadata": {},
   "outputs": [
    {
     "data": {
      "text/plain": [
       "LogisticRegression()"
      ]
     },
     "execution_count": 41,
     "metadata": {},
     "output_type": "execute_result"
    }
   ],
   "source": [
    "# fitting data to model\n",
    "\n",
    "from sklearn.linear_model import LogisticRegression\n",
    "\n",
    "lr = LogisticRegression()\n",
    "lr.fit(X_train, y_train)"
   ]
  },
  {
   "cell_type": "code",
   "execution_count": 42,
   "metadata": {},
   "outputs": [],
   "source": [
    "# model predictions\n",
    "\n",
    "y_pred = lr.predict(X_test)"
   ]
  },
  {
   "cell_type": "code",
   "execution_count": 43,
   "metadata": {},
   "outputs": [
    {
     "name": "stdout",
     "output_type": "stream",
     "text": [
      "0.7208121827411168\n",
      "0.6941176470588235\n"
     ]
    }
   ],
   "source": [
    "# accuracy score\n",
    "\n",
    "print(accuracy_score(y_train, lr.predict(X_train)))\n",
    "\n",
    "lr_acc = accuracy_score(y_test, lr.predict(X_test))\n",
    "print(lr_acc)"
   ]
  },
  {
   "cell_type": "code",
   "execution_count": 44,
   "metadata": {},
   "outputs": [
    {
     "name": "stdout",
     "output_type": "stream",
     "text": [
      "[[ 14  35]\n",
      " [ 17 104]]\n"
     ]
    }
   ],
   "source": [
    "# confusion matrix\n",
    "\n",
    "print(confusion_matrix(y_test, y_pred))"
   ]
  },
  {
   "cell_type": "code",
   "execution_count": 45,
   "metadata": {},
   "outputs": [
    {
     "name": "stdout",
     "output_type": "stream",
     "text": [
      "              precision    recall  f1-score   support\n",
      "\n",
      "           0       0.45      0.29      0.35        49\n",
      "           1       0.75      0.86      0.80       121\n",
      "\n",
      "    accuracy                           0.69       170\n",
      "   macro avg       0.60      0.57      0.58       170\n",
      "weighted avg       0.66      0.69      0.67       170\n",
      "\n"
     ]
    }
   ],
   "source": [
    "# classification report\n",
    "\n",
    "print(classification_report(y_test, y_pred))"
   ]
  },
  {
   "cell_type": "markdown",
   "metadata": {},
   "source": [
    "# KNN"
   ]
  },
  {
   "cell_type": "code",
   "execution_count": 46,
   "metadata": {},
   "outputs": [
    {
     "data": {
      "text/plain": [
       "KNeighborsClassifier()"
      ]
     },
     "execution_count": 46,
     "metadata": {},
     "output_type": "execute_result"
    }
   ],
   "source": [
    "from sklearn.neighbors import KNeighborsClassifier\n",
    "\n",
    "knn = KNeighborsClassifier()\n",
    "knn.fit(X_train, y_train)"
   ]
  },
  {
   "cell_type": "code",
   "execution_count": 47,
   "metadata": {},
   "outputs": [],
   "source": [
    "# model predictions \n",
    "\n",
    "y_pred = knn.predict(X_test)"
   ]
  },
  {
   "cell_type": "code",
   "execution_count": 48,
   "metadata": {},
   "outputs": [
    {
     "name": "stdout",
     "output_type": "stream",
     "text": [
      "0.7944162436548223\n",
      "0.6294117647058823\n"
     ]
    }
   ],
   "source": [
    "# accuracy score\n",
    "\n",
    "print(accuracy_score(y_train, knn.predict(X_train)))\n",
    "\n",
    "knn_acc = accuracy_score(y_test, knn.predict(X_test))\n",
    "print(knn_acc)"
   ]
  },
  {
   "cell_type": "code",
   "execution_count": 49,
   "metadata": {},
   "outputs": [
    {
     "name": "stdout",
     "output_type": "stream",
     "text": [
      "[[19 30]\n",
      " [33 88]]\n"
     ]
    }
   ],
   "source": [
    "# confusion matrix\n",
    "\n",
    "print(confusion_matrix(y_test, y_pred))"
   ]
  },
  {
   "cell_type": "code",
   "execution_count": 50,
   "metadata": {},
   "outputs": [
    {
     "name": "stdout",
     "output_type": "stream",
     "text": [
      "              precision    recall  f1-score   support\n",
      "\n",
      "           0       0.37      0.39      0.38        49\n",
      "           1       0.75      0.73      0.74       121\n",
      "\n",
      "    accuracy                           0.63       170\n",
      "   macro avg       0.56      0.56      0.56       170\n",
      "weighted avg       0.64      0.63      0.63       170\n",
      "\n"
     ]
    }
   ],
   "source": [
    "# classification report\n",
    "\n",
    "print(classification_report(y_test, y_pred))"
   ]
  },
  {
   "cell_type": "markdown",
   "metadata": {},
   "source": [
    "# SVM"
   ]
  },
  {
   "cell_type": "code",
   "execution_count": 51,
   "metadata": {},
   "outputs": [
    {
     "data": {
      "text/plain": [
       "GridSearchCV(estimator=SVC(probability=True),\n",
       "             param_grid={'C': [0.01, 0.05, 0.5, 0.1, 1, 10, 15, 20],\n",
       "                         'gamma': [0.0001, 0.001, 0.01, 0.1]})"
      ]
     },
     "execution_count": 51,
     "metadata": {},
     "output_type": "execute_result"
    }
   ],
   "source": [
    "from sklearn.svm import SVC\n",
    "from sklearn.model_selection import GridSearchCV\n",
    "\n",
    "svc = SVC(probability=True)\n",
    "parameters = {\n",
    "    'gamma' : [0.0001, 0.001, 0.01, 0.1],\n",
    "    'C' : [0.01, 0.05, 0.5, 0.1, 1, 10, 15, 20]\n",
    "}\n",
    "\n",
    "grid_search = GridSearchCV(svc, parameters)\n",
    "grid_search.fit(X_train, y_train)"
   ]
  },
  {
   "cell_type": "code",
   "execution_count": 52,
   "metadata": {},
   "outputs": [
    {
     "data": {
      "text/plain": [
       "{'C': 0.01, 'gamma': 0.0001}"
      ]
     },
     "execution_count": 52,
     "metadata": {},
     "output_type": "execute_result"
    }
   ],
   "source": [
    "# best parameters\n",
    "\n",
    "grid_search.best_params_"
   ]
  },
  {
   "cell_type": "code",
   "execution_count": 53,
   "metadata": {},
   "outputs": [
    {
     "data": {
      "text/plain": [
       "0.7132099967543006"
      ]
     },
     "execution_count": 53,
     "metadata": {},
     "output_type": "execute_result"
    }
   ],
   "source": [
    "# best score \n",
    "\n",
    "grid_search.best_score_"
   ]
  },
  {
   "cell_type": "code",
   "execution_count": 54,
   "metadata": {},
   "outputs": [
    {
     "data": {
      "text/plain": [
       "SVC(C=0.01, gamma=0.0001, probability=True)"
      ]
     },
     "execution_count": 54,
     "metadata": {},
     "output_type": "execute_result"
    }
   ],
   "source": [
    "svc = SVC(C = 0.01, gamma = 0.0001, probability=True)\n",
    "svc.fit(X_train, y_train)"
   ]
  },
  {
   "cell_type": "code",
   "execution_count": 55,
   "metadata": {},
   "outputs": [],
   "source": [
    "# model predictions \n",
    "\n",
    "y_pred = svc.predict(X_test)"
   ]
  },
  {
   "cell_type": "code",
   "execution_count": 56,
   "metadata": {},
   "outputs": [
    {
     "name": "stdout",
     "output_type": "stream",
     "text": [
      "0.7131979695431472\n",
      "0.711764705882353\n"
     ]
    }
   ],
   "source": [
    "# accuracy score\n",
    "\n",
    "print(accuracy_score(y_train, svc.predict(X_train)))\n",
    "\n",
    "svc_acc = accuracy_score(y_test, svc.predict(X_test))\n",
    "print(svc_acc)"
   ]
  },
  {
   "cell_type": "code",
   "execution_count": 57,
   "metadata": {},
   "outputs": [
    {
     "name": "stdout",
     "output_type": "stream",
     "text": [
      "[[  0  49]\n",
      " [  0 121]]\n"
     ]
    }
   ],
   "source": [
    "# confusion matrix\n",
    "\n",
    "print(confusion_matrix(y_test, y_pred))"
   ]
  },
  {
   "cell_type": "code",
   "execution_count": 58,
   "metadata": {},
   "outputs": [
    {
     "name": "stdout",
     "output_type": "stream",
     "text": [
      "              precision    recall  f1-score   support\n",
      "\n",
      "           0       0.00      0.00      0.00        49\n",
      "           1       0.71      1.00      0.83       121\n",
      "\n",
      "    accuracy                           0.71       170\n",
      "   macro avg       0.36      0.50      0.42       170\n",
      "weighted avg       0.51      0.71      0.59       170\n",
      "\n"
     ]
    }
   ],
   "source": [
    "# classification report\n",
    "\n",
    "print(classification_report(y_test, y_pred))"
   ]
  },
  {
   "cell_type": "markdown",
   "metadata": {},
   "source": [
    "# DT"
   ]
  },
  {
   "cell_type": "code",
   "execution_count": 60,
   "metadata": {},
   "outputs": [
    {
     "name": "stdout",
     "output_type": "stream",
     "text": [
      "Training Accuracy of Decision Tree Classifier is 1.0\n",
      "Test Accuracy of Decision Tree Classifier is 0.611764705882353 \n",
      "\n",
      "Confusion Matrix :- \n",
      "[[20 29]\n",
      " [37 84]]\n",
      "\n",
      "Classification Report :- \n",
      "               precision    recall  f1-score   support\n",
      "\n",
      "           0       0.35      0.41      0.38        49\n",
      "           1       0.74      0.69      0.72       121\n",
      "\n",
      "    accuracy                           0.61       170\n",
      "   macro avg       0.55      0.55      0.55       170\n",
      "weighted avg       0.63      0.61      0.62       170\n",
      "\n"
     ]
    }
   ],
   "source": [
    "from sklearn.tree import DecisionTreeClassifier\n",
    "\n",
    "dtc = DecisionTreeClassifier()\n",
    "dtc.fit(X_train, y_train)\n",
    "\n",
    "# accuracy score, confusion matrix and classification report of decision tree\n",
    "\n",
    "dtc_acc = accuracy_score(y_test, dtc.predict(X_test))\n",
    "\n",
    "print(f\"Training Accuracy of Decision Tree Classifier is {accuracy_score(y_train, dtc.predict(X_train))}\")\n",
    "print(f\"Test Accuracy of Decision Tree Classifier is {dtc_acc} \\n\")\n",
    "\n",
    "print(f\"Confusion Matrix :- \\n{confusion_matrix(y_test, dtc.predict(X_test))}\\n\")\n",
    "print(f\"Classification Report :- \\n {classification_report(y_test, dtc.predict(X_test))}\")"
   ]
  },
  {
   "cell_type": "code",
   "execution_count": 64,
   "metadata": {},
   "outputs": [
    {
     "name": "stdout",
     "output_type": "stream",
     "text": [
      "Fitting 24 folds for each of 1200 candidates, totalling 28800 fits\n"
     ]
    },
    {
     "data": {
      "text/plain": [
       "GridSearchCV(cv=24,\n",
       "             estimator=DecisionTreeClassifier(max_depth=5, max_features='auto',\n",
       "                                              min_samples_leaf=7,\n",
       "                                              min_samples_split=3,\n",
       "                                              splitter='random'),\n",
       "             n_jobs=-1,\n",
       "             param_grid={'criterion': ['gini', 'entropy'],\n",
       "                         'max_depth': [3, 5, 7, 10],\n",
       "                         'max_features': ['auto', 'sqrt', 'log2'],\n",
       "                         'min_samples_leaf': [1, 2, 3, 5, 7],\n",
       "                         'min_samples_split': [1, 2, 3, 5, 7],\n",
       "                         'splitter': ['best', 'random']},\n",
       "             verbose=1)"
      ]
     },
     "execution_count": 64,
     "metadata": {},
     "output_type": "execute_result"
    }
   ],
   "source": [
    "# hyper parameter tuning of decision tree \n",
    "\n",
    "from sklearn.model_selection import GridSearchCV\n",
    "grid_param = {\n",
    "    'criterion' : ['gini', 'entropy'],\n",
    "    'max_depth' : [3, 5, 7, 10],\n",
    "    'splitter' : ['best', 'random'],\n",
    "    'min_samples_leaf' : [1, 2, 3, 5, 7],\n",
    "    'min_samples_split' : [1, 2, 3, 5, 7],\n",
    "    'max_features' : ['auto', 'sqrt', 'log2']\n",
    "}\n",
    "\n",
    "grid_search_dtc = GridSearchCV(dtc, grid_param, cv = 24, n_jobs = -1, verbose = 1)\n",
    "grid_search_dtc.fit(X_train, y_train)"
   ]
  },
  {
   "cell_type": "code",
   "execution_count": 65,
   "metadata": {},
   "outputs": [
    {
     "name": "stdout",
     "output_type": "stream",
     "text": [
      "{'criterion': 'gini', 'max_depth': 3, 'max_features': 'auto', 'min_samples_leaf': 7, 'min_samples_split': 3, 'splitter': 'best'}\n",
      "0.7331495098039215\n"
     ]
    }
   ],
   "source": [
    "# best parameters and best score\n",
    "\n",
    "print(grid_search_dtc.best_params_)\n",
    "print(grid_search_dtc.best_score_)"
   ]
  },
  {
   "cell_type": "code",
   "execution_count": 66,
   "metadata": {},
   "outputs": [
    {
     "name": "stdout",
     "output_type": "stream",
     "text": [
      "Training Accuracy of Decision Tree Classifier is 0.7436548223350253\n",
      "Test Accuracy of Decision Tree Classifier is 0.6705882352941176 \n",
      "\n",
      "Confusion Matrix :- \n",
      "[[  4  45]\n",
      " [ 11 110]]\n",
      "\n",
      "Classification Report :- \n",
      "               precision    recall  f1-score   support\n",
      "\n",
      "           0       0.27      0.08      0.12        49\n",
      "           1       0.71      0.91      0.80       121\n",
      "\n",
      "    accuracy                           0.67       170\n",
      "   macro avg       0.49      0.50      0.46       170\n",
      "weighted avg       0.58      0.67      0.60       170\n",
      "\n"
     ]
    }
   ],
   "source": [
    "# best estimator\n",
    "\n",
    "dtc = grid_search_dtc.best_estimator_\n",
    "\n",
    "# accuracy score, confusion matrix and classification report of decision tree\n",
    "\n",
    "dtc_acc = accuracy_score(y_test, dtc.predict(X_test))\n",
    "\n",
    "print(f\"Training Accuracy of Decision Tree Classifier is {accuracy_score(y_train, dtc.predict(X_train))}\")\n",
    "print(f\"Test Accuracy of Decision Tree Classifier is {dtc_acc} \\n\")\n",
    "\n",
    "print(f\"Confusion Matrix :- \\n{confusion_matrix(y_test, dtc.predict(X_test))}\\n\")\n",
    "print(f\"Classification Report :- \\n {classification_report(y_test, dtc.predict(X_test))}\")"
   ]
  },
  {
   "cell_type": "markdown",
   "metadata": {},
   "source": [
    "# RF"
   ]
  },
  {
   "cell_type": "code",
   "execution_count": 460,
   "metadata": {},
   "outputs": [
    {
     "data": {
      "text/plain": [
       "RandomForestClassifier(criterion='entropy', max_depth=16, min_samples_leaf=4,\n",
       "                       n_estimators=130)"
      ]
     },
     "execution_count": 460,
     "metadata": {},
     "output_type": "execute_result"
    }
   ],
   "source": [
    "from sklearn.ensemble import RandomForestClassifier\n",
    "\n",
    "rand_clf = RandomForestClassifier(criterion = 'entropy', max_depth = 16, max_features = 'auto', min_samples_leaf = 4, min_samples_split = 2, n_estimators = 130)\n",
    "rand_clf.fit(X_train, y_train)"
   ]
  },
  {
   "cell_type": "code",
   "execution_count": 461,
   "metadata": {},
   "outputs": [],
   "source": [
    "y_pred = rand_clf.predict(X_test)"
   ]
  },
  {
   "cell_type": "code",
   "execution_count": 462,
   "metadata": {},
   "outputs": [
    {
     "name": "stdout",
     "output_type": "stream",
     "text": [
      "0.9365482233502538\n",
      "0.6882352941176471\n"
     ]
    }
   ],
   "source": [
    "# accuracy score\n",
    "\n",
    "print(accuracy_score(y_train, rand_clf.predict(X_train)))\n",
    "\n",
    "ran_clf_acc = accuracy_score(y_test, y_pred)\n",
    "print(ran_clf_acc)"
   ]
  },
  {
   "cell_type": "code",
   "execution_count": 463,
   "metadata": {},
   "outputs": [
    {
     "name": "stdout",
     "output_type": "stream",
     "text": [
      "[[19 30]\n",
      " [23 98]]\n"
     ]
    }
   ],
   "source": [
    "# confusion matrix\n",
    "\n",
    "print(confusion_matrix(y_test, y_pred))"
   ]
  },
  {
   "cell_type": "code",
   "execution_count": 464,
   "metadata": {},
   "outputs": [
    {
     "name": "stdout",
     "output_type": "stream",
     "text": [
      "              precision    recall  f1-score   support\n",
      "\n",
      "           0       0.45      0.39      0.42        49\n",
      "           1       0.77      0.81      0.79       121\n",
      "\n",
      "    accuracy                           0.69       170\n",
      "   macro avg       0.61      0.60      0.60       170\n",
      "weighted avg       0.68      0.69      0.68       170\n",
      "\n"
     ]
    }
   ],
   "source": [
    "# classification report\n",
    "\n",
    "print(classification_report(y_test, y_pred))"
   ]
  },
  {
   "cell_type": "markdown",
   "metadata": {},
   "source": [
    "# Gradient Boosting Classifier"
   ]
  },
  {
   "cell_type": "code",
   "execution_count": 427,
   "metadata": {},
   "outputs": [
    {
     "name": "stdout",
     "output_type": "stream",
     "text": [
      "Fitting 20 folds for each of 32 candidates, totalling 640 fits\n"
     ]
    },
    {
     "data": {
      "text/plain": [
       "GridSearchCV(cv=20, estimator=GradientBoostingClassifier(), n_jobs=-1,\n",
       "             param_grid={'learning_rate': [0.001, 0.1, 1, 10],\n",
       "                         'loss': ['deviance', 'exponential'],\n",
       "                         'n_estimators': [100, 150, 180, 200]},\n",
       "             verbose=1)"
      ]
     },
     "execution_count": 427,
     "metadata": {},
     "output_type": "execute_result"
    }
   ],
   "source": [
    "from sklearn.ensemble import GradientBoostingClassifier\n",
    "\n",
    "gbc = GradientBoostingClassifier()\n",
    "\n",
    "parameters = {\n",
    "    'loss': ['deviance', 'exponential'],\n",
    "    'learning_rate': [0.001, 0.1, 1, 10],\n",
    "    'n_estimators': [100, 150, 180, 200]\n",
    "}\n",
    "\n",
    "grid_search_gbc = GridSearchCV(gbc, parameters, cv = 20, n_jobs = -1, verbose = 1)\n",
    "grid_search_gbc.fit(X_train, y_train)"
   ]
  },
  {
   "cell_type": "code",
   "execution_count": 428,
   "metadata": {},
   "outputs": [
    {
     "data": {
      "text/plain": [
       "{'learning_rate': 0.1, 'loss': 'exponential', 'n_estimators': 100}"
      ]
     },
     "execution_count": 428,
     "metadata": {},
     "output_type": "execute_result"
    }
   ],
   "source": [
    "# best parameters \n",
    "\n",
    "grid_search_gbc.best_params_"
   ]
  },
  {
   "cell_type": "code",
   "execution_count": 429,
   "metadata": {},
   "outputs": [
    {
     "data": {
      "text/plain": [
       "0.7259210526315789"
      ]
     },
     "execution_count": 429,
     "metadata": {},
     "output_type": "execute_result"
    }
   ],
   "source": [
    "# best score\n",
    "\n",
    "grid_search_gbc.best_score_"
   ]
  },
  {
   "cell_type": "code",
   "execution_count": 430,
   "metadata": {},
   "outputs": [
    {
     "data": {
      "text/plain": [
       "GradientBoostingClassifier(loss='exponential')"
      ]
     },
     "execution_count": 430,
     "metadata": {},
     "output_type": "execute_result"
    }
   ],
   "source": [
    "gbc = GradientBoostingClassifier(learning_rate = 0.1, loss = 'exponential', n_estimators = 100)\n",
    "gbc.fit(X_train, y_train)"
   ]
  },
  {
   "cell_type": "code",
   "execution_count": 431,
   "metadata": {},
   "outputs": [],
   "source": [
    "y_pred = gbc.predict(X_test)"
   ]
  },
  {
   "cell_type": "code",
   "execution_count": 432,
   "metadata": {},
   "outputs": [
    {
     "name": "stdout",
     "output_type": "stream",
     "text": [
      "0.9365482233502538\n",
      "0.7058823529411765\n"
     ]
    }
   ],
   "source": [
    "# accuracy score\n",
    "\n",
    "print(accuracy_score(y_train, gbc.predict(X_train)))\n",
    "\n",
    "gbc_acc = accuracy_score(y_test, y_pred)\n",
    "print(gbc_acc)"
   ]
  },
  {
   "cell_type": "code",
   "execution_count": 433,
   "metadata": {},
   "outputs": [
    {
     "name": "stdout",
     "output_type": "stream",
     "text": [
      "[[21 28]\n",
      " [22 99]]\n"
     ]
    }
   ],
   "source": [
    "# confusion matrix\n",
    "\n",
    "print(confusion_matrix(y_test, y_pred))"
   ]
  },
  {
   "cell_type": "code",
   "execution_count": 434,
   "metadata": {},
   "outputs": [
    {
     "name": "stdout",
     "output_type": "stream",
     "text": [
      "              precision    recall  f1-score   support\n",
      "\n",
      "           0       0.49      0.43      0.46        49\n",
      "           1       0.78      0.82      0.80       121\n",
      "\n",
      "    accuracy                           0.71       170\n",
      "   macro avg       0.63      0.62      0.63       170\n",
      "weighted avg       0.70      0.71      0.70       170\n",
      "\n"
     ]
    }
   ],
   "source": [
    "# classification report\n",
    "\n",
    "print(classification_report(y_test, y_pred))"
   ]
  },
  {
   "cell_type": "markdown",
   "metadata": {},
   "source": [
    "# XGBoost"
   ]
  },
  {
   "cell_type": "code",
   "execution_count": 236,
   "metadata": {},
   "outputs": [
    {
     "data": {
      "text/plain": [
       "XGBClassifier(base_score=0.5, booster='gbtree', callbacks=None,\n",
       "              colsample_bylevel=1, colsample_bynode=1, colsample_bytree=1,\n",
       "              early_stopping_rounds=None, enable_categorical=False,\n",
       "              eval_metric=None, gamma=0, gpu_id=-1, grow_policy='depthwise',\n",
       "              importance_type=None, interaction_constraints='',\n",
       "              learning_rate=0.01, max_bin=256, max_cat_to_onehot=4,\n",
       "              max_delta_step=0, max_depth=100, max_leaves=0, min_child_weight=1,\n",
       "              missing=nan, monotone_constraints='()', n_estimators=300,\n",
       "              n_jobs=0, num_parallel_tree=1, predictor='auto', random_state=0,\n",
       "              reg_alpha=0, reg_lambda=1, ...)"
      ]
     },
     "execution_count": 236,
     "metadata": {},
     "output_type": "execute_result"
    }
   ],
   "source": [
    "from xgboost import XGBClassifier \n",
    "\n",
    "xgb = XGBClassifier(objective = 'binary:logistic', learning_rate = 0.01, max_depth = 100, n_estimators = 300)\n",
    "\n",
    "xgb.fit(X_train, y_train)"
   ]
  },
  {
   "cell_type": "code",
   "execution_count": 237,
   "metadata": {},
   "outputs": [],
   "source": [
    "y_pred = xgb.predict(X_test)"
   ]
  },
  {
   "cell_type": "code",
   "execution_count": 238,
   "metadata": {},
   "outputs": [
    {
     "name": "stdout",
     "output_type": "stream",
     "text": [
      "0.9923857868020305\n",
      "0.6941176470588235\n"
     ]
    }
   ],
   "source": [
    "# accuracy score\n",
    "\n",
    "print(accuracy_score(y_train, xgb.predict(X_train)))\n",
    "\n",
    "xgb_acc = accuracy_score(y_test, y_pred)\n",
    "print(xgb_acc)"
   ]
  },
  {
   "cell_type": "code",
   "execution_count": 239,
   "metadata": {},
   "outputs": [
    {
     "name": "stdout",
     "output_type": "stream",
     "text": [
      "[[20 29]\n",
      " [23 98]]\n"
     ]
    }
   ],
   "source": [
    "# confusion matrix\n",
    "\n",
    "print(confusion_matrix(y_test, y_pred))"
   ]
  },
  {
   "cell_type": "code",
   "execution_count": 240,
   "metadata": {},
   "outputs": [
    {
     "name": "stdout",
     "output_type": "stream",
     "text": [
      "              precision    recall  f1-score   support\n",
      "\n",
      "           0       0.47      0.41      0.43        49\n",
      "           1       0.77      0.81      0.79       121\n",
      "\n",
      "    accuracy                           0.69       170\n",
      "   macro avg       0.62      0.61      0.61       170\n",
      "weighted avg       0.68      0.69      0.69       170\n",
      "\n"
     ]
    }
   ],
   "source": [
    "# classification report\n",
    "\n",
    "print(classification_report(y_test, y_pred))"
   ]
  },
  {
   "cell_type": "markdown",
   "metadata": {},
   "source": [
    "# Model Comparison"
   ]
  },
  {
   "cell_type": "code",
   "execution_count": 476,
   "metadata": {},
   "outputs": [
    {
     "data": {
      "text/html": [
       "<div>\n",
       "<style scoped>\n",
       "    .dataframe tbody tr th:only-of-type {\n",
       "        vertical-align: middle;\n",
       "    }\n",
       "\n",
       "    .dataframe tbody tr th {\n",
       "        vertical-align: top;\n",
       "    }\n",
       "\n",
       "    .dataframe thead th {\n",
       "        text-align: right;\n",
       "    }\n",
       "</style>\n",
       "<table border=\"1\" class=\"dataframe\">\n",
       "  <thead>\n",
       "    <tr style=\"text-align: right;\">\n",
       "      <th></th>\n",
       "      <th>Model</th>\n",
       "      <th>Score</th>\n",
       "    </tr>\n",
       "  </thead>\n",
       "  <tbody>\n",
       "    <tr>\n",
       "      <th>2</th>\n",
       "      <td>SVM</td>\n",
       "      <td>71.18</td>\n",
       "    </tr>\n",
       "    <tr>\n",
       "      <th>5</th>\n",
       "      <td>Gradient Boosting Classifier</td>\n",
       "      <td>70.59</td>\n",
       "    </tr>\n",
       "    <tr>\n",
       "      <th>0</th>\n",
       "      <td>Logistic Regression</td>\n",
       "      <td>69.41</td>\n",
       "    </tr>\n",
       "    <tr>\n",
       "      <th>6</th>\n",
       "      <td>XgBoost</td>\n",
       "      <td>69.41</td>\n",
       "    </tr>\n",
       "    <tr>\n",
       "      <th>4</th>\n",
       "      <td>Random Forest Classifier</td>\n",
       "      <td>68.82</td>\n",
       "    </tr>\n",
       "    <tr>\n",
       "      <th>3</th>\n",
       "      <td>Decision Tree Classifier</td>\n",
       "      <td>67.06</td>\n",
       "    </tr>\n",
       "    <tr>\n",
       "      <th>1</th>\n",
       "      <td>KNN</td>\n",
       "      <td>62.94</td>\n",
       "    </tr>\n",
       "  </tbody>\n",
       "</table>\n",
       "</div>"
      ],
      "text/plain": [
       "                          Model  Score\n",
       "2                           SVM  71.18\n",
       "5  Gradient Boosting Classifier  70.59\n",
       "0           Logistic Regression  69.41\n",
       "6                       XgBoost  69.41\n",
       "4      Random Forest Classifier  68.82\n",
       "3      Decision Tree Classifier  67.06\n",
       "1                           KNN  62.94"
      ]
     },
     "execution_count": 476,
     "metadata": {},
     "output_type": "execute_result"
    }
   ],
   "source": [
    "models = pd.DataFrame({\n",
    "    'Model': ['Logistic Regression', 'KNN', 'SVM', 'Decision Tree Classifier', 'Random Forest Classifier', 'Gradient Boosting Classifier', 'XgBoost'],\n",
    "    'Score': [100*round(lr_acc,4), 100*round(knn_acc,4), 100*round(svc_acc,4), 100*round(dtc_acc,4), 100*round(ran_clf_acc,4), \n",
    "              100*round(gbc_acc,4), 100*round(xgb_acc,4)]\n",
    "})\n",
    "models.sort_values(by = 'Score', ascending = False)"
   ]
  },
  {
   "cell_type": "code",
   "execution_count": 477,
   "metadata": {},
   "outputs": [],
   "source": [
    "import pickle\n",
    "model = svc\n",
    "pickle.dump(model, open(\"models/liver.pkl\",'wb'))"
   ]
  },
  {
   "cell_type": "code",
   "execution_count": 474,
   "metadata": {},
   "outputs": [
    {
     "data": {
      "image/png": "[encoded data removed]",
      "text/plain": [
       "<Figure size 576x360 with 1 Axes>"
      ]
     },
     "metadata": {
      "needs_background": "light"
     },
     "output_type": "display_data"
    }
   ],
   "source": [
    "from sklearn import metrics\n",
    "plt.figure(figsize=(8,5))\n",
    "models = [\n",
    "{\n",
    "    'label': 'LR',\n",
    "    'model': lr,\n",
    "},\n",
    "{\n",
    "    'label': 'DT',\n",
    "    'model': dtc,\n",
    "},\n",
    "{\n",
    "    'label': 'SVM',\n",
    "    'model': svc,\n",
    "},\n",
    "{\n",
    "    'label': 'KNN',\n",
    "    'model': knn,\n",
    "},\n",
    "{\n",
    "    'label': 'XGBoost',\n",
    "    'model': xgb,\n",
    "},\n",
    "{\n",
    "    'label': 'RF',\n",
    "    'model': rand_clf,\n",
    "},\n",
    "{\n",
    "    'label': 'GBDT',\n",
    "    'model': gbc,\n",
    "}\n",
    "]\n",
    "for m in models:\n",
    "    model = m['model'] \n",
    "    model.fit(X_train, y_train) \n",
    "    y_pred=model.predict(X_test) \n",
    "    fpr1, tpr1, thresholds = metrics.roc_curve(y_test, model.predict_proba(X_test)[:,1])\n",
    "    auc = metrics.roc_auc_score(y_test,model.predict(X_test))\n",
    "    plt.plot(fpr1, tpr1, label='%s - ROC (area = %0.2f)' % (m['label'], auc))\n",
    "\n",
    "plt.plot([0, 1], [0, 1],'r--')\n",
    "plt.xlim([-0.01, 1.0])\n",
    "plt.ylim([0.0, 1.05])\n",
    "plt.xlabel('1 - Specificity (False Positive Rate)', fontsize=12)\n",
    "plt.ylabel('Sensitivity (True Positive Rate)', fontsize=12)\n",
    "plt.title('ROC - Liver Disease Prediction', fontsize=12)\n",
    "plt.legend(loc=\"lower right\", fontsize=12)\n",
    "plt.savefig(\"outputs/roc_liver.jpeg\", format='jpeg', dpi=400, bbox_inches='tight')\n",
    "plt.show()"
   ]
  },
  {
   "cell_type": "code",
   "execution_count": 475,
   "metadata": {},
   "outputs": [
    {
     "name": "stdout",
     "output_type": "stream",
     "text": [
      "[69.41000000000001, 67.06, 71.17999999999999, 62.94, 69.41000000000001, 68.82000000000001, 70.59]\n",
      "[57.26, 55.46, 50.0, 55.75, 60.9, 58.86, 61.919999999999995]\n"
     ]
    },
    {
     "data": {
      "image/png": "[encoded data removed]",
      "text/plain": [
       "<Figure size 576x360 with 1 Axes>"
      ]
     },
     "metadata": {
      "needs_background": "light"
     },
     "output_type": "display_data"
    }
   ],
   "source": [
    "from sklearn import metrics\n",
    "import numpy as np\n",
    "import matplotlib.pyplot as plt\n",
    "models = [\n",
    "{\n",
    "    'label': 'LR',\n",
    "    'model': lr,\n",
    "},\n",
    "{\n",
    "    'label': 'DT',\n",
    "    'model': dtc,\n",
    "},\n",
    "{\n",
    "    'label': 'SVM',\n",
    "    'model': svc,\n",
    "},\n",
    "{\n",
    "    'label': 'KNN',\n",
    "    'model': knn,\n",
    "},\n",
    "{\n",
    "    'label': 'XGBoost',\n",
    "    'model': xgb,\n",
    "},\n",
    "{\n",
    "    'label': 'RF',\n",
    "    'model': rand_clf,\n",
    "},\n",
    "{\n",
    "    'label': 'GBDT',\n",
    "    'model': gbc,\n",
    "}\n",
    "]\n",
    "\n",
    "means_roc = []\n",
    "means_accuracy = [100*round(lr_acc,4), 100*round(dtc_acc,4), 100*round(svc_acc,4), 100*round(knn_acc,4), 100*round(xgb_acc,4), \n",
    "                  100*round(ran_clf_acc,4), 100*round(gbc_acc,4)]\n",
    "\n",
    "for m in models:\n",
    "    model = m['model'] \n",
    "    model.fit(X_train, y_train) \n",
    "    y_pred=model.predict(X_test) \n",
    "    fpr1, tpr1, thresholds = metrics.roc_curve(y_test, model.predict_proba(X_test)[:,1])\n",
    "    auc = metrics.roc_auc_score(y_test,model.predict(X_test))\n",
    "    auc = 100*round(auc,4)\n",
    "    means_roc.append(auc)\n",
    "\n",
    "print(means_accuracy)\n",
    "print(means_roc)\n",
    "\n",
    "# data to plot\n",
    "n_groups = 7\n",
    "means_accuracy = tuple(means_accuracy)\n",
    "means_roc = tuple(means_roc)\n",
    "\n",
    "# create plot\n",
    "fig, ax = plt.subplots(figsize=(8,5))\n",
    "index = np.arange(n_groups)\n",
    "bar_width = 0.35\n",
    "opacity = 0.8\n",
    "\n",
    "rects1 = plt.bar(index, means_accuracy, bar_width,\n",
    "alpha=opacity,\n",
    "color='mediumpurple',\n",
    "label='Accuracy (%)')\n",
    "\n",
    "rects2 = plt.bar(index + bar_width, means_roc, bar_width,\n",
    "alpha=opacity,\n",
    "color='rebeccapurple',\n",
    "label='ROC (%)')\n",
    "\n",
    "plt.xlim([-1, 8])\n",
    "plt.ylim([40, 76])\n",
    "\n",
    "plt.title('Performance Evaluation - Liver Disease Prediction', fontsize=12)\n",
    "plt.xticks(index, ('   LR', '   DT', '   SVM', '   KNN', 'XGBoost' , '   RF', '   GBDT'), rotation=40, ha='center', fontsize=12)\n",
    "plt.legend(loc=\"upper right\", fontsize=10)\n",
    "plt.savefig(\"outputs/PE_liver.jpeg\", format='jpeg', dpi=400, bbox_inches='tight')\n",
    "plt.show()"
   ]
  },
  {
   "cell_type": "code",
   "execution_count": null,
   "metadata": {},
   "outputs": [],
   "source": []
  }
 ],
 "metadata": {
  "kernelspec": {
   "display_name": "beprojx1",
   "language": "python",
   "name": "beprojx1"
  },
  "language_info": {
   "codemirror_mode": {
    "name": "ipython",
    "version": 3
   },
   "file_extension": ".py",
   "mimetype": "text/x-python",
   "name": "python",
   "nbconvert_exporter": "python",
   "pygments_lexer": "ipython3",
   "version": "3.9.7"
  }
 },
 "nbformat": 4,
 "nbformat_minor": 4
}
